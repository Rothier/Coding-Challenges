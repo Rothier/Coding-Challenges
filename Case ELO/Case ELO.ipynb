{
 "cells": [
  {
   "cell_type": "markdown",
   "id": "0c76baa0",
   "metadata": {},
   "source": [
    "# 📊 Análise de Dados - Case ELO\n",
    "\n",
    "## Objetivo\n",
    "\n",
    "Este notebook apresenta uma análise de dados abrangente para identificar localizações ideais para novos laboratórios médicos. Combinamos dados demográficos, econômicos e de desempenho de laboratórios existentes para criar um modelo de pontuação que identifica áreas com maior potencial de mercado.\n",
    "\n",
    "**Principais descobertas:**\n",
    "- A combinação de alta população, elevada proporção de idosos e poder aquisitivo substancial são fatores determinantes para o sucesso de laboratórios médicos\n",
    "- Identificamos dois modelos de negócio predominantes: estratégia premium (alta margem) e estratégia de volume (alta rotatividade)\n",
    "- As ZCTAs com maior potencial para novos laboratórios combinam características demográficas favoráveis com baixa concorrência atual\n",
    "\n",
    "**Metodologia:** Nossa abordagem integra análise exploratória, visualização geoespacial, correlação estatística e um modelo de pontuação ponderado para identificar as melhores oportunidades de expansão."
   ]
  },
  {
   "cell_type": "markdown",
   "id": "4c24987d",
   "metadata": {},
   "source": [
    "## 1. Importar Bibliotecas"
   ]
  },
  {
   "cell_type": "code",
   "execution_count": 1,
   "id": "3e3874e5",
   "metadata": {},
   "outputs": [],
   "source": [
    "import pandas as pd\n",
    "import matplotlib.pyplot as plt\n",
    "import seaborn as sns\n",
    "import numpy as np\n",
    "import geopandas as gpd\n",
    "from shapely.geometry import Point\n",
    "from sklearn.preprocessing import MinMaxScaler\n",
    "import plotly.express as px\n",
    "\n",
    "# Configurações de visualização\n",
    "plt.style.use('seaborn-v0_8-whitegrid')\n",
    "sns.set_palette('viridis')"
   ]
  },
  {
   "cell_type": "markdown",
   "id": "3d92d2b6",
   "metadata": {},
   "source": [
    "## 2. Carregar Dados\n",
    "\n",
    "Nesta seção, carregamos os dados necessários para a análise, incluindo informações demográficas, localização de laboratórios, dados econômicos, catálogo de exames e dados transacionais."
   ]
  },
  {
   "cell_type": "code",
   "execution_count": 2,
   "id": "cdcb983b",
   "metadata": {},
   "outputs": [],
   "source": [
    "# Definir caminhos para os arquivos\n",
    "path_demographics = r\".\\Dados\\DemographicData_ZCTAs.csv\"\n",
    "path_labs = r\".\\Dados\\df_geocode.csv\"\n",
    "path_households = r\".\\Dados\\EconomicData_ZCTAs.csv\"\n",
    "path_catalog = r\".\\Dados\\exams_data.csv\"\n",
    "path_services = r\".\\Dados\\transactional_data.csv\"\n",
    "\n",
    "# Carregar bases de dados\n",
    "df_demographics = pd.read_csv(path_demographics, index_col=0)\n",
    "df_labs = pd.read_csv(path_labs, index_col=0)\n",
    "df_households = pd.read_csv(path_households, index_col=0)\n",
    "df_catalog = pd.read_csv(path_catalog)\n",
    "df_services = pd.read_csv(path_services, delimiter=';')"
   ]
  },
  {
   "cell_type": "markdown",
   "id": "3c3bb431",
   "metadata": {},
   "source": [
    "## 3. Inspeção e Limpeza de Dados\n",
    "\n",
    "Antes de realizar a análise, inspecionamos e limpamos os dados para garantir consistência e qualidade."
   ]
  },
  {
   "cell_type": "code",
   "execution_count": 3,
   "id": "1df1f6c9",
   "metadata": {},
   "outputs": [
    {
     "name": "stdout",
     "output_type": "stream",
     "text": [
      "--- Demographics ---\n"
     ]
    },
    {
     "data": {
      "text/html": [
       "<div>\n",
       "<style scoped>\n",
       "    .dataframe tbody tr th:only-of-type {\n",
       "        vertical-align: middle;\n",
       "    }\n",
       "\n",
       "    .dataframe tbody tr th {\n",
       "        vertical-align: top;\n",
       "    }\n",
       "\n",
       "    .dataframe thead th {\n",
       "        text-align: right;\n",
       "    }\n",
       "</style>\n",
       "<table border=\"1\" class=\"dataframe\">\n",
       "  <thead>\n",
       "    <tr style=\"text-align: right;\">\n",
       "      <th></th>\n",
       "      <th>Id</th>\n",
       "      <th>GeographicAreaName</th>\n",
       "      <th>TotalPopulation</th>\n",
       "      <th>SexRatio(males per 100 females)</th>\n",
       "      <th>Population_Under5Years</th>\n",
       "      <th>Population_5to9Years</th>\n",
       "      <th>Population_10to14Years</th>\n",
       "      <th>Population_15to19Years</th>\n",
       "      <th>Population_20to24Years</th>\n",
       "      <th>Population_25to34Years</th>\n",
       "      <th>Population_35to44Years</th>\n",
       "      <th>Population_45to54Years</th>\n",
       "      <th>Population_55to59Years</th>\n",
       "      <th>Population_60to64Years</th>\n",
       "      <th>Population_65to74Years</th>\n",
       "      <th>Population_75to84Years</th>\n",
       "      <th>Population_85YearsAndOver</th>\n",
       "      <th>MedianAgeInYears</th>\n",
       "    </tr>\n",
       "  </thead>\n",
       "  <tbody>\n",
       "    <tr>\n",
       "      <th>0</th>\n",
       "      <td>8600000US35004</td>\n",
       "      <td>ZCTA5 35004</td>\n",
       "      <td>12045</td>\n",
       "      <td>94.1</td>\n",
       "      <td>805</td>\n",
       "      <td>1075</td>\n",
       "      <td>898</td>\n",
       "      <td>477</td>\n",
       "      <td>578</td>\n",
       "      <td>2088</td>\n",
       "      <td>1628</td>\n",
       "      <td>1200</td>\n",
       "      <td>886</td>\n",
       "      <td>683</td>\n",
       "      <td>1017</td>\n",
       "      <td>534</td>\n",
       "      <td>176</td>\n",
       "      <td>35.5</td>\n",
       "    </tr>\n",
       "    <tr>\n",
       "      <th>1</th>\n",
       "      <td>8600000US35005</td>\n",
       "      <td>ZCTA5 35005</td>\n",
       "      <td>7344</td>\n",
       "      <td>86.1</td>\n",
       "      <td>504</td>\n",
       "      <td>453</td>\n",
       "      <td>511</td>\n",
       "      <td>499</td>\n",
       "      <td>214</td>\n",
       "      <td>788</td>\n",
       "      <td>795</td>\n",
       "      <td>968</td>\n",
       "      <td>612</td>\n",
       "      <td>561</td>\n",
       "      <td>798</td>\n",
       "      <td>485</td>\n",
       "      <td>156</td>\n",
       "      <td>44.0</td>\n",
       "    </tr>\n",
       "  </tbody>\n",
       "</table>\n",
       "</div>"
      ],
      "text/plain": [
       "               Id GeographicAreaName  TotalPopulation  \\\n",
       "0  8600000US35004        ZCTA5 35004            12045   \n",
       "1  8600000US35005        ZCTA5 35005             7344   \n",
       "\n",
       "   SexRatio(males per 100 females)  Population_Under5Years  \\\n",
       "0                             94.1                     805   \n",
       "1                             86.1                     504   \n",
       "\n",
       "   Population_5to9Years  Population_10to14Years  Population_15to19Years  \\\n",
       "0                  1075                     898                     477   \n",
       "1                   453                     511                     499   \n",
       "\n",
       "   Population_20to24Years  Population_25to34Years  Population_35to44Years  \\\n",
       "0                     578                    2088                    1628   \n",
       "1                     214                     788                     795   \n",
       "\n",
       "   Population_45to54Years  Population_55to59Years  Population_60to64Years  \\\n",
       "0                    1200                     886                     683   \n",
       "1                     968                     612                     561   \n",
       "\n",
       "   Population_65to74Years  Population_75to84Years  Population_85YearsAndOver  \\\n",
       "0                    1017                     534                        176   \n",
       "1                     798                     485                        156   \n",
       "\n",
       "   MedianAgeInYears  \n",
       "0              35.5  \n",
       "1              44.0  "
      ]
     },
     "metadata": {},
     "output_type": "display_data"
    },
    {
     "name": "stdout",
     "output_type": "stream",
     "text": [
      "Dimensões: (33120, 18), Tipos de dados: {dtype('int64'): 14, dtype('O'): 2, dtype('float64'): 2}\n",
      "\n",
      "--- Labs ---\n"
     ]
    },
    {
     "data": {
      "text/html": [
       "<div>\n",
       "<style scoped>\n",
       "    .dataframe tbody tr th:only-of-type {\n",
       "        vertical-align: middle;\n",
       "    }\n",
       "\n",
       "    .dataframe tbody tr th {\n",
       "        vertical-align: top;\n",
       "    }\n",
       "\n",
       "    .dataframe thead th {\n",
       "        text-align: right;\n",
       "    }\n",
       "</style>\n",
       "<table border=\"1\" class=\"dataframe\">\n",
       "  <thead>\n",
       "    <tr style=\"text-align: right;\">\n",
       "      <th></th>\n",
       "      <th>Lab Id</th>\n",
       "      <th>Address</th>\n",
       "      <th>Location</th>\n",
       "      <th>Zipcode</th>\n",
       "    </tr>\n",
       "  </thead>\n",
       "  <tbody>\n",
       "    <tr>\n",
       "      <th>0</th>\n",
       "      <td>L152</td>\n",
       "      <td>3800 PLEASANT HILL RD STE 1, DULUTH, GA 30096</td>\n",
       "      <td>34.000319,-84.1629724</td>\n",
       "      <td>30096.0</td>\n",
       "    </tr>\n",
       "    <tr>\n",
       "      <th>1</th>\n",
       "      <td>L520</td>\n",
       "      <td>1614 N JAMES ST, ROME, NY 13440</td>\n",
       "      <td>43.2311327,-75.4445363</td>\n",
       "      <td>13440.0</td>\n",
       "    </tr>\n",
       "  </tbody>\n",
       "</table>\n",
       "</div>"
      ],
      "text/plain": [
       "  Lab Id                                        Address  \\\n",
       "0   L152  3800 PLEASANT HILL RD STE 1, DULUTH, GA 30096   \n",
       "1   L520                1614 N JAMES ST, ROME, NY 13440   \n",
       "\n",
       "                 Location  Zipcode  \n",
       "0   34.000319,-84.1629724  30096.0  \n",
       "1  43.2311327,-75.4445363  13440.0  "
      ]
     },
     "metadata": {},
     "output_type": "display_data"
    },
    {
     "name": "stdout",
     "output_type": "stream",
     "text": [
      "Dimensões: (119, 4), Tipos de dados: {dtype('O'): 3, dtype('float64'): 1}\n",
      "\n",
      "--- Households ---\n"
     ]
    },
    {
     "data": {
      "text/html": [
       "<div>\n",
       "<style scoped>\n",
       "    .dataframe tbody tr th:only-of-type {\n",
       "        vertical-align: middle;\n",
       "    }\n",
       "\n",
       "    .dataframe tbody tr th {\n",
       "        vertical-align: top;\n",
       "    }\n",
       "\n",
       "    .dataframe thead th {\n",
       "        text-align: right;\n",
       "    }\n",
       "</style>\n",
       "<table border=\"1\" class=\"dataframe\">\n",
       "  <thead>\n",
       "    <tr style=\"text-align: right;\">\n",
       "      <th></th>\n",
       "      <th>id</th>\n",
       "      <th>Geographic Area Name</th>\n",
       "      <th>TotalHouseholds_LessThan$10.000</th>\n",
       "      <th>TotalHouseholds_$10.000to$14.999</th>\n",
       "      <th>TotalHouseholds_$15.000to$24.999</th>\n",
       "      <th>TotalHouseholds_$25.000to$34.999</th>\n",
       "      <th>TotalHouseholds_$35.000to$49.999</th>\n",
       "      <th>TotalHouseholds_$50.000to$74.999</th>\n",
       "      <th>TotalHouseholds_$75.000to$99.999</th>\n",
       "      <th>TotalHouseholds_$100.000to$149.999</th>\n",
       "      <th>TotalHouseholds_$150.000to$199.999</th>\n",
       "      <th>TotalHouseholds_$200.000OrMore</th>\n",
       "    </tr>\n",
       "  </thead>\n",
       "  <tbody>\n",
       "    <tr>\n",
       "      <th>0</th>\n",
       "      <td>8600000US35004</td>\n",
       "      <td>ZCTA5 35004</td>\n",
       "      <td>198</td>\n",
       "      <td>71</td>\n",
       "      <td>298</td>\n",
       "      <td>513</td>\n",
       "      <td>647</td>\n",
       "      <td>1117</td>\n",
       "      <td>529</td>\n",
       "      <td>945</td>\n",
       "      <td>245</td>\n",
       "      <td>61</td>\n",
       "    </tr>\n",
       "    <tr>\n",
       "      <th>1</th>\n",
       "      <td>8600000US35005</td>\n",
       "      <td>ZCTA5 35005</td>\n",
       "      <td>188</td>\n",
       "      <td>184</td>\n",
       "      <td>318</td>\n",
       "      <td>293</td>\n",
       "      <td>353</td>\n",
       "      <td>562</td>\n",
       "      <td>299</td>\n",
       "      <td>407</td>\n",
       "      <td>67</td>\n",
       "      <td>26</td>\n",
       "    </tr>\n",
       "  </tbody>\n",
       "</table>\n",
       "</div>"
      ],
      "text/plain": [
       "               id Geographic Area Name  TotalHouseholds_LessThan$10.000  \\\n",
       "0  8600000US35004          ZCTA5 35004                              198   \n",
       "1  8600000US35005          ZCTA5 35005                              188   \n",
       "\n",
       "   TotalHouseholds_$10.000to$14.999  TotalHouseholds_$15.000to$24.999  \\\n",
       "0                                71                               298   \n",
       "1                               184                               318   \n",
       "\n",
       "   TotalHouseholds_$25.000to$34.999  TotalHouseholds_$35.000to$49.999  \\\n",
       "0                               513                               647   \n",
       "1                               293                               353   \n",
       "\n",
       "   TotalHouseholds_$50.000to$74.999  TotalHouseholds_$75.000to$99.999  \\\n",
       "0                              1117                               529   \n",
       "1                               562                               299   \n",
       "\n",
       "   TotalHouseholds_$100.000to$149.999  TotalHouseholds_$150.000to$199.999  \\\n",
       "0                                 945                                 245   \n",
       "1                                 407                                  67   \n",
       "\n",
       "   TotalHouseholds_$200.000OrMore  \n",
       "0                              61  \n",
       "1                              26  "
      ]
     },
     "metadata": {},
     "output_type": "display_data"
    },
    {
     "name": "stdout",
     "output_type": "stream",
     "text": [
      "Dimensões: (629280, 12), Tipos de dados: {dtype('int64'): 10, dtype('O'): 2}\n",
      "\n",
      "--- Catalog ---\n"
     ]
    },
    {
     "data": {
      "text/html": [
       "<div>\n",
       "<style scoped>\n",
       "    .dataframe tbody tr th:only-of-type {\n",
       "        vertical-align: middle;\n",
       "    }\n",
       "\n",
       "    .dataframe tbody tr th {\n",
       "        vertical-align: top;\n",
       "    }\n",
       "\n",
       "    .dataframe thead th {\n",
       "        text-align: right;\n",
       "    }\n",
       "</style>\n",
       "<table border=\"1\" class=\"dataframe\">\n",
       "  <thead>\n",
       "    <tr style=\"text-align: right;\">\n",
       "      <th></th>\n",
       "      <th>CodItem</th>\n",
       "      <th>Desc Item</th>\n",
       "      <th>Category</th>\n",
       "      <th>Family</th>\n",
       "      <th>Speciality</th>\n",
       "      <th>Testing Cost</th>\n",
       "    </tr>\n",
       "  </thead>\n",
       "  <tbody>\n",
       "    <tr>\n",
       "      <th>0</th>\n",
       "      <td>70003237</td>\n",
       "      <td>MAGNESIO, SORO (EXEMPLO DE EXPRESSAO DE RESULT...</td>\n",
       "      <td>CA</td>\n",
       "      <td>CORELAB</td>\n",
       "      <td>BIOCHEMISTRY</td>\n",
       "      <td>1.78</td>\n",
       "    </tr>\n",
       "    <tr>\n",
       "      <th>1</th>\n",
       "      <td>70000638</td>\n",
       "      <td>HEMOGRAMA, AUTOMATIZADO, SANGUE</td>\n",
       "      <td>CA</td>\n",
       "      <td>HEMATO</td>\n",
       "      <td>BLOOD COUNT</td>\n",
       "      <td>2.46</td>\n",
       "    </tr>\n",
       "  </tbody>\n",
       "</table>\n",
       "</div>"
      ],
      "text/plain": [
       "    CodItem                                          Desc Item Category  \\\n",
       "0  70003237  MAGNESIO, SORO (EXEMPLO DE EXPRESSAO DE RESULT...       CA   \n",
       "1  70000638                    HEMOGRAMA, AUTOMATIZADO, SANGUE       CA   \n",
       "\n",
       "    Family    Speciality  Testing Cost  \n",
       "0  CORELAB  BIOCHEMISTRY          1.78  \n",
       "1   HEMATO   BLOOD COUNT          2.46  "
      ]
     },
     "metadata": {},
     "output_type": "display_data"
    },
    {
     "name": "stdout",
     "output_type": "stream",
     "text": [
      "Dimensões: (2002, 6), Tipos de dados: {dtype('O'): 4, dtype('int64'): 1, dtype('float64'): 1}\n",
      "\n",
      "--- Services ---\n"
     ]
    },
    {
     "data": {
      "text/html": [
       "<div>\n",
       "<style scoped>\n",
       "    .dataframe tbody tr th:only-of-type {\n",
       "        vertical-align: middle;\n",
       "    }\n",
       "\n",
       "    .dataframe tbody tr th {\n",
       "        vertical-align: top;\n",
       "    }\n",
       "\n",
       "    .dataframe thead th {\n",
       "        text-align: right;\n",
       "    }\n",
       "</style>\n",
       "<table border=\"1\" class=\"dataframe\">\n",
       "  <thead>\n",
       "    <tr style=\"text-align: right;\">\n",
       "      <th></th>\n",
       "      <th>Patient Id</th>\n",
       "      <th>Gender</th>\n",
       "      <th>Date of birth</th>\n",
       "      <th>Date of service</th>\n",
       "      <th>Service Id</th>\n",
       "      <th>Lab Id</th>\n",
       "      <th>CodItem</th>\n",
       "      <th>Testing Cost</th>\n",
       "    </tr>\n",
       "  </thead>\n",
       "  <tbody>\n",
       "    <tr>\n",
       "      <th>0</th>\n",
       "      <td>10210830256-BIO003</td>\n",
       "      <td>F</td>\n",
       "      <td>01/08/1976 00:00:00</td>\n",
       "      <td>2019-01-07</td>\n",
       "      <td>571904533475-38</td>\n",
       "      <td>L133</td>\n",
       "      <td>70003237</td>\n",
       "      <td>9,0</td>\n",
       "    </tr>\n",
       "    <tr>\n",
       "      <th>1</th>\n",
       "      <td>10210830256-BIO003</td>\n",
       "      <td>F</td>\n",
       "      <td>01/08/1976 00:00:00</td>\n",
       "      <td>2019-01-07</td>\n",
       "      <td>571904533475-38</td>\n",
       "      <td>L133</td>\n",
       "      <td>70000638</td>\n",
       "      <td>13,0</td>\n",
       "    </tr>\n",
       "  </tbody>\n",
       "</table>\n",
       "</div>"
      ],
      "text/plain": [
       "           Patient Id Gender        Date of birth Date of service  \\\n",
       "0  10210830256-BIO003      F  01/08/1976 00:00:00      2019-01-07   \n",
       "1  10210830256-BIO003      F  01/08/1976 00:00:00      2019-01-07   \n",
       "\n",
       "        Service Id Lab Id   CodItem Testing Cost  \n",
       "0  571904533475-38   L133  70003237          9,0  \n",
       "1  571904533475-38   L133  70000638         13,0  "
      ]
     },
     "metadata": {},
     "output_type": "display_data"
    },
    {
     "name": "stdout",
     "output_type": "stream",
     "text": [
      "Dimensões: (2355241, 8), Tipos de dados: {dtype('O'): 7, dtype('int64'): 1}\n",
      "\n"
     ]
    }
   ],
   "source": [
    "# Exibir informações básicas de cada dataset\n",
    "for name, df in {'Demographics': df_demographics, 'Labs': df_labs, 'Households': df_households, \n",
    "                 'Catalog': df_catalog, 'Services': df_services}.items():\n",
    "    print(f\"--- {name} ---\")\n",
    "    display(df.head(2))\n",
    "    print(f\"Dimensões: {df.shape}, Tipos de dados: {df.dtypes.value_counts().to_dict()}\\n\")"
   ]
  },
  {
   "cell_type": "markdown",
   "id": "dcdca9e7",
   "metadata": {},
   "source": [
    "### 3.1 Padronização e Limpeza dos Dados\n",
    "\n",
    "1. Padronização de nomes de colunas\n",
    "2. Tratamento de duplicatas e valores nulos\n",
    "3. Conversão de tipos de dados"
   ]
  },
  {
   "cell_type": "markdown",
   "id": "1856913d",
   "metadata": {},
   "source": [
    "#### Sobre Renomeação de Colunas\n",
    "\n",
    "Na padronização dos dados, renomeamos algumas colunas importantes para garantir consistência e clareza:\n",
    "\n",
    "- **`lab_id` → `lab_location_id`**: Esta mudança foi feita porque o dataframe `df_labs` contém informações sobre a localização física dos laboratórios, não sobre suas métricas de desempenho. Mais tarde, usaremos o `lab_id` original dos dados transacionais para análise de performance.\n",
    "\n",
    "- **`id` → `geo_id`** nos dataframes demográficos e econômicos: Renomeamos para evitar ambiguidade, já que 'id' é um nome genérico. O prefixo 'geo_' deixa claro que este identificador se refere a uma região geográfica específica.\n",
    "\n",
    "Estas alterações são importantes para evitar conflitos durante as operações de merge entre os diferentes conjuntos de dados."
   ]
  },
  {
   "cell_type": "code",
   "execution_count": 4,
   "id": "5c38f3f6",
   "metadata": {},
   "outputs": [
    {
     "name": "stdout",
     "output_type": "stream",
     "text": [
      "Removendo 596160 duplicatas de households\n",
      "Removendo 14519 duplicatas de services\n",
      "Removendo 14519 duplicatas de services\n"
     ]
    }
   ],
   "source": [
    "# Função para limpar os nomes das colunas e tratar dados básicos\n",
    "def preparar_dataframe(df, nome):\n",
    "    # Padronizar nomes de colunas\n",
    "    df.columns = [col.lower().replace(' ', '_') for col in df.columns]\n",
    "    \n",
    "    # Remover duplicatas se existirem\n",
    "    n_duplicatas = df.duplicated().sum()\n",
    "    if n_duplicatas > 0:\n",
    "        print(f\"Removendo {n_duplicatas} duplicatas de {nome}\")\n",
    "        df = df.drop_duplicates()\n",
    "        \n",
    "    return df\n",
    "\n",
    "# Aplicar função em todos os dataframes\n",
    "df_demographics = preparar_dataframe(df_demographics, \"demographics\")\n",
    "df_labs = preparar_dataframe(df_labs, \"labs\")\n",
    "df_households = preparar_dataframe(df_households, \"households\")\n",
    "df_catalog = preparar_dataframe(df_catalog, \"catalog\")\n",
    "df_services = preparar_dataframe(df_services, \"services\")\n",
    "\n",
    "# Renomear colunas específicas para maior clareza \n",
    "df_demographics = df_demographics.rename(columns={'id': 'geo_id'})\n",
    "df_households = df_households.rename(columns={'id': 'geo_id'})\n",
    "df_labs = df_labs.rename(columns={'lab_id': 'lab_location_id'})"
   ]
  },
  {
   "cell_type": "markdown",
   "id": "2e324ac2",
   "metadata": {},
   "source": [
    "#### Com base na análise acima, definimos as seguintes estratégias:\n",
    "- **Dados Demográficos (\"df_demographics\"):** Em \"sexratio(males_per_100_females)\" e \"medianageinyears\" usaremos a imputação pela mediana, resistente a outliers, para preencher os valores numéricos.\n",
    "- **Dados de Laboratórios (\"df_labs\"):** Há um laboratório (\"lab_id = -2\") com \"zipcode\" nulo, marcado como \"Unavailable\". Como é um caso isolado e não representa uma localização real, removeremos essa linha.\n",
    "- **Dados de Serviços (\"df_services\"):** Existe um único registro de serviço para um paciente sem \"date_of_birth\". Como não podemos calcular a idade e é um caso isolado, removeremos essa linha."
   ]
  },
  {
   "cell_type": "code",
   "execution_count": 5,
   "id": "0f0b6c28",
   "metadata": {},
   "outputs": [],
   "source": [
    "# Tratar valores nulos\n",
    "for col in ['sexratio(males_per_100_females)', 'medianageinyears']:\n",
    "    if col in df_demographics.columns:\n",
    "        df_demographics[col] = df_demographics[col].fillna(df_demographics[col].median())\n",
    "\n",
    "df_labs = df_labs.dropna(subset=['zipcode'])\n",
    "\n",
    "df_services = df_services.dropna(subset=['date_of_birth'])"
   ]
  },
  {
   "cell_type": "code",
   "execution_count": 6,
   "id": "d300700e",
   "metadata": {},
   "outputs": [
    {
     "name": "stdout",
     "output_type": "stream",
     "text": [
      "Tipos de dados após conversão:\n",
      "patient_id          object\n",
      "gender              object\n",
      "date_of_birth       object\n",
      "date_of_service     object\n",
      "service_id          object\n",
      "lab_id              object\n",
      "coditem              int64\n",
      "testing_cost       float64\n",
      "dtype: object\n"
     ]
    }
   ],
   "source": [
    "# Converter valores de custo de teste de string para float\n",
    "# Substituir vírgulas por pontos para representação decimal\n",
    "df_services['testing_cost'] = df_services['testing_cost'].str.replace(',', '.').astype(float)\n",
    "\n",
    "# Verificar se a conversão foi bem-sucedida\n",
    "print(\"Tipos de dados após conversão:\")\n",
    "print(df_services.dtypes)"
   ]
  },
  {
   "cell_type": "markdown",
   "id": "1efe03b6",
   "metadata": {},
   "source": [
    "## 3.2 Preparação para Análise: Extração de ZCTA\n",
    "\n",
    "As ZCTAs (ZIP Code Tabulation Areas) são unidades geográficas estatísticas desenvolvidas pelo Census Bureau dos EUA para facilitar a análise de dados demográficos e socioeconômicos. Nesta etapa, extraímos os códigos ZCTA dos nomes geográficos completos para permitir a junção (merge) com outros conjuntos de dados.\n",
    "\n",
    "Usamos expressões regulares (regex) com o padrão `ZCTA5 (\\d+)` para capturar apenas o código numérico de interesse. Esta padronização é essencial para vincular corretamente os dados demográficos e econômicos com os dados dos laboratórios em etapas futuras."
   ]
  },
  {
   "cell_type": "code",
   "execution_count": 7,
   "id": "674570dc",
   "metadata": {},
   "outputs": [
    {
     "data": {
      "text/html": [
       "<div>\n",
       "<style scoped>\n",
       "    .dataframe tbody tr th:only-of-type {\n",
       "        vertical-align: middle;\n",
       "    }\n",
       "\n",
       "    .dataframe tbody tr th {\n",
       "        vertical-align: top;\n",
       "    }\n",
       "\n",
       "    .dataframe thead th {\n",
       "        text-align: right;\n",
       "    }\n",
       "</style>\n",
       "<table border=\"1\" class=\"dataframe\">\n",
       "  <thead>\n",
       "    <tr style=\"text-align: right;\">\n",
       "      <th></th>\n",
       "      <th>households_zcta</th>\n",
       "      <th>demographics_zcta</th>\n",
       "    </tr>\n",
       "  </thead>\n",
       "  <tbody>\n",
       "    <tr>\n",
       "      <th>0</th>\n",
       "      <td>35004</td>\n",
       "      <td>35004</td>\n",
       "    </tr>\n",
       "    <tr>\n",
       "      <th>1</th>\n",
       "      <td>35005</td>\n",
       "      <td>35005</td>\n",
       "    </tr>\n",
       "    <tr>\n",
       "      <th>2</th>\n",
       "      <td>35006</td>\n",
       "      <td>35006</td>\n",
       "    </tr>\n",
       "  </tbody>\n",
       "</table>\n",
       "</div>"
      ],
      "text/plain": [
       "  households_zcta demographics_zcta\n",
       "0           35004             35004\n",
       "1           35005             35005\n",
       "2           35006             35006"
      ]
     },
     "execution_count": 7,
     "metadata": {},
     "output_type": "execute_result"
    }
   ],
   "source": [
    "# Extrair ZCTAs dos nomes geográficos\n",
    "df_households['zcta'] = df_households['geographic_area_name'].str.extract(r'ZCTA5 (\\d+)').astype(str)\n",
    "df_demographics['zcta'] = df_demographics['geographicareaname'].str.extract(r'ZCTA5 (\\d+)').astype(str)\n",
    "\n",
    "# Verificar amostra do resultado da extração\n",
    "pd.DataFrame({\n",
    "    'households_zcta': df_households['zcta'].head(3),\n",
    "    'demographics_zcta': df_demographics['zcta'].head(3)\n",
    "})"
   ]
  },
  {
   "cell_type": "markdown",
   "id": "d86f5dfc",
   "metadata": {},
   "source": [
    "## 4. Análise do Desempenho dos Laboratórios\n",
    "\n",
    "Nesta seção, analisamos o desempenho dos laboratórios existentes com base no volume de exames realizados e na receita gerada."
   ]
  },
  {
   "cell_type": "markdown",
   "id": "b312f0c5",
   "metadata": {},
   "source": [
    "### 4.1 Detalhamento da Análise de Performance\n",
    "\n",
    "Nesta etapa, agregamos os dados de serviços por laboratório para criar métricas-chave de desempenho:\n",
    "\n",
    "- **num_exams**: Contagem de exames realizados (count de service_id), indicando volume operacional\n",
    "- **total_revenue**: Soma dos custos de teste, representando a receita bruta gerada\n",
    "- **unique_patients**: Número de pacientes únicos atendidos (nunique de patient_id)\n",
    "- **avg_cost**: Custo médio por exame (mean de testing_cost)\n",
    "\n",
    "Também vinculamos o código postal (zipcode) a cada laboratório para posteriores análises geográficas. Esta etapa é fundamental para categorizar os diferentes modelos de negócio dos laboratórios e identificar as estratégias mais bem-sucedidas."
   ]
  },
  {
   "cell_type": "code",
   "execution_count": 8,
   "id": "315d1cf7",
   "metadata": {},
   "outputs": [
    {
     "data": {
      "text/html": [
       "<div>\n",
       "<style scoped>\n",
       "    .dataframe tbody tr th:only-of-type {\n",
       "        vertical-align: middle;\n",
       "    }\n",
       "\n",
       "    .dataframe tbody tr th {\n",
       "        vertical-align: top;\n",
       "    }\n",
       "\n",
       "    .dataframe thead th {\n",
       "        text-align: right;\n",
       "    }\n",
       "</style>\n",
       "<table border=\"1\" class=\"dataframe\">\n",
       "  <thead>\n",
       "    <tr style=\"text-align: right;\">\n",
       "      <th></th>\n",
       "      <th>lab_id</th>\n",
       "      <th>num_exams</th>\n",
       "      <th>total_revenue</th>\n",
       "      <th>unique_patients</th>\n",
       "      <th>avg_cost</th>\n",
       "      <th>zipcode</th>\n",
       "    </tr>\n",
       "  </thead>\n",
       "  <tbody>\n",
       "    <tr>\n",
       "      <th>28</th>\n",
       "      <td>L133</td>\n",
       "      <td>121886</td>\n",
       "      <td>9711866.14</td>\n",
       "      <td>29454</td>\n",
       "      <td>79.679915</td>\n",
       "      <td>94565.0</td>\n",
       "    </tr>\n",
       "    <tr>\n",
       "      <th>41</th>\n",
       "      <td>L152</td>\n",
       "      <td>95255</td>\n",
       "      <td>6216304.62</td>\n",
       "      <td>22035</td>\n",
       "      <td>65.259615</td>\n",
       "      <td>30096.0</td>\n",
       "    </tr>\n",
       "    <tr>\n",
       "      <th>32</th>\n",
       "      <td>L139</td>\n",
       "      <td>93495</td>\n",
       "      <td>8778103.04</td>\n",
       "      <td>21976</td>\n",
       "      <td>93.888476</td>\n",
       "      <td>95823.0</td>\n",
       "    </tr>\n",
       "    <tr>\n",
       "      <th>19</th>\n",
       "      <td>L121</td>\n",
       "      <td>88430</td>\n",
       "      <td>6521202.54</td>\n",
       "      <td>18863</td>\n",
       "      <td>73.744233</td>\n",
       "      <td>98008.0</td>\n",
       "    </tr>\n",
       "    <tr>\n",
       "      <th>55</th>\n",
       "      <td>L166</td>\n",
       "      <td>76159</td>\n",
       "      <td>4721055.04</td>\n",
       "      <td>19065</td>\n",
       "      <td>61.989457</td>\n",
       "      <td>19120.0</td>\n",
       "    </tr>\n",
       "  </tbody>\n",
       "</table>\n",
       "</div>"
      ],
      "text/plain": [
       "   lab_id  num_exams  total_revenue  unique_patients   avg_cost  zipcode\n",
       "28   L133     121886     9711866.14            29454  79.679915  94565.0\n",
       "41   L152      95255     6216304.62            22035  65.259615  30096.0\n",
       "32   L139      93495     8778103.04            21976  93.888476  95823.0\n",
       "19   L121      88430     6521202.54            18863  73.744233  98008.0\n",
       "55   L166      76159     4721055.04            19065  61.989457  19120.0"
      ]
     },
     "metadata": {},
     "output_type": "display_data"
    }
   ],
   "source": [
    "# Análise agregada por laboratório\n",
    "lab_performance = df_services.groupby('lab_id').agg(\n",
    "    num_exams=('service_id', 'count'),\n",
    "    total_revenue=('testing_cost', 'sum'),\n",
    "    unique_patients=('patient_id', 'nunique'),\n",
    "    avg_cost=('testing_cost', 'mean')\n",
    ").reset_index()\n",
    "\n",
    "# Adicionar informações de localização \n",
    "lab_zipcode_map = dict(zip(df_labs['lab_location_id'], df_labs['zipcode']))\n",
    "lab_performance['zipcode'] = lab_performance['lab_id'].map(lab_zipcode_map)\n",
    "\n",
    "# Top laboratórios por volume de exames\n",
    "display(lab_performance.sort_values('num_exams', ascending=False).head(5))"
   ]
  },
  {
   "cell_type": "markdown",
   "id": "b0947ef2",
   "metadata": {},
   "source": [
    "### 4.2 Gráfico de Barras: Volume de Exames por Laboratório"
   ]
  },
  {
   "cell_type": "code",
   "execution_count": 9,
   "id": "b41f867c",
   "metadata": {},
   "outputs": [
    {
     "data": {
      "image/png": "[encoded data removed]",
      "text/plain": [
       "<Figure size 1400x800 with 1 Axes>"
      ]
     },
     "metadata": {},
     "output_type": "display_data"
    }
   ],
   "source": [
    "# Ordenar laboratórios por volume de exames e limitar para os 15 maiores\n",
    "lab_performance_sorted = lab_performance.sort_values('num_exams', ascending=False).head(15)\n",
    "\n",
    "# Criar gráfico de barras\n",
    "plt.figure(figsize=(14, 8))\n",
    "bars = plt.bar(lab_performance_sorted['lab_id'], lab_performance_sorted['num_exams'], color='skyblue')\n",
    "\n",
    "# Adicionar rótulos de valores acima das barras\n",
    "for bar in bars:\n",
    "    height = bar.get_height()\n",
    "    plt.text(bar.get_x() + bar.get_width()/2., height + 1000,\n",
    "            f'{int(height):,}',\n",
    "            ha='center', va='bottom', fontsize=10)\n",
    "\n",
    "# Configurar o gráfico\n",
    "plt.title('Volume de Exames por Laboratório (Top 15)', fontsize=16)\n",
    "plt.xlabel('ID do Laboratório', fontsize=14)\n",
    "plt.ylabel('Número de Exames', fontsize=14)\n",
    "plt.xticks(fontsize=12)\n",
    "plt.yticks(fontsize=12)\n",
    "plt.grid(axis='y', linestyle='--', alpha=0.7)\n",
    "\n",
    "# Ajustar layout\n",
    "plt.tight_layout()\n",
    "plt.show()"
   ]
  },
  {
   "cell_type": "markdown",
   "id": "80e90736",
   "metadata": {},
   "source": [
    "### 4.3 Normalização de Métricas de Desempenho\n",
    "\n",
    "Para facilitar comparações justas entre laboratórios de diferentes tamanhos e regiões, aplicamos a normalização MinMax às principais métricas de desempenho. Isso escala todas as métricas para o intervalo [0,1], onde 0 representa o valor mínimo e 1 representa o valor máximo observado."
   ]
  },
  {
   "cell_type": "markdown",
   "id": "b1c8ff65",
   "metadata": {},
   "source": [
    "### Justificativa dos Pesos na Pontuação de Desempenho\n",
    "\n",
    "Na criação da pontuação composta de desempenho, atribuímos pesos diferentes a cada métrica com base na sua importância relativa para o negócio:\n",
    "\n",
    "- **Volume de Exames (40%)**: Recebeu o maior peso por ser um indicador direto da capacidade operacional e participação de mercado do laboratório. Maior volume geralmente significa maior capacidade de diluição de custos fixos.\n",
    "\n",
    "- **Receita Total (30%)**: O segundo critério mais importante, pois representa o desempenho financeiro bruto do laboratório e sua capacidade de geração de caixa.\n",
    "\n",
    "- **Pacientes Únicos (20%)**: Reflete o alcance do laboratório na população e seu potencial para crescimento via fidelização e vendas cruzadas.\n",
    "\n",
    "- **Custo Médio (10%)**: Recebeu o menor peso pois, embora seja importante para identificar o posicionamento estratégico do laboratório (premium vs. volume), não necessariamente determina o sucesso do negócio por si só.\n",
    "\n",
    "Esta distribuição de pesos permite identificar laboratórios que conseguem equilibrar volume, receita e base de clientes, independentemente do modelo de negócio adotado (premium ou volume)."
   ]
  },
  {
   "cell_type": "code",
   "execution_count": 10,
   "id": "8f1709e5",
   "metadata": {},
   "outputs": [],
   "source": [
    "# Definir métricas para normalização\n",
    "performance_metrics = ['num_exams', 'total_revenue', 'unique_patients', 'avg_cost']\n",
    "\n",
    "# Criar cópia para evitar alterações nos dados originais\n",
    "lab_performance_scaled = lab_performance.copy()\n",
    "\n",
    "# Aplicar MinMaxScaler em cada métrica\n",
    "scaler = MinMaxScaler()\n",
    "lab_performance_scaled[performance_metrics] = scaler.fit_transform(lab_performance[performance_metrics])\n",
    "\n",
    "# Calcular pontuação composta (com pesos personalizáveis)\n",
    "weights = {\n",
    "    'num_exams': 0.4,      # Volume é importante para capacidade\n",
    "    'total_revenue': 0.3,  # Receita reflete desempenho financeiro\n",
    "    'unique_patients': 0.2, # Alcance na população\n",
    "    'avg_cost': 0.1        # Estratégia de preços (peso menor)\n",
    "}\n",
    "\n",
    "# Calcular pontuação total ponderada\n",
    "lab_performance_scaled['performance_score'] = sum(\n",
    "    lab_performance_scaled[metric] * weight \n",
    "    for metric, weight in weights.items()\n",
    ")\n",
    "\n",
    "# Identificar os laboratórios com melhor desempenho geral\n",
    "top_performers = lab_performance_scaled.sort_values('performance_score', ascending=False).head(10)"
   ]
  },
  {
   "cell_type": "code",
   "execution_count": 11,
   "id": "c80c9834",
   "metadata": {},
   "outputs": [
    {
     "data": {
      "image/png": "[encoded data removed]",
      "text/plain": [
       "<Figure size 1500x1000 with 2 Axes>"
      ]
     },
     "metadata": {},
     "output_type": "display_data"
    }
   ],
   "source": [
    "# Visualizar distribuição das métricas normalizadas\n",
    "plt.figure(figsize=(15, 10))\n",
    "\n",
    "# Gráfico de dispersão com rótulos para os melhores laboratórios\n",
    "plt.scatter(lab_performance_scaled['num_exams'], \n",
    "            lab_performance_scaled['avg_cost'],\n",
    "            c=lab_performance_scaled['performance_score'],\n",
    "            s=lab_performance_scaled['unique_patients']*100,\n",
    "            alpha=0.6, cmap='viridis')\n",
    "\n",
    "# Adicionar rótulos apenas para os top performers\n",
    "for _, row in top_performers.iterrows():\n",
    "    plt.annotate(row['lab_id'], \n",
    "                (row['num_exams'], row['avg_cost']),\n",
    "                xytext=(5, 5), textcoords='offset points',\n",
    "                fontsize=9, fontweight='bold')\n",
    "\n",
    "plt.colorbar(label='Pontuação de Desempenho Composta')\n",
    "plt.xlabel('Volume de Exames (normalizado)', fontsize=12)\n",
    "plt.ylabel('Custo Médio (normalizado)', fontsize=12)\n",
    "plt.title('Posicionamento dos Laboratórios - Métricas Normalizadas', fontsize=14)\n",
    "plt.grid(True, alpha=0.3)\n",
    "plt.tight_layout()\n",
    "plt.show()"
   ]
  },
  {
   "cell_type": "markdown",
   "id": "bbcbdee9",
   "metadata": {},
   "source": [
    "### 4.4 Análise de Estratégias de Negócio\n",
    "\n",
    "Com base nas métricas normalizadas, podemos identificar claramente diferentes estratégias de negócio entre os laboratórios:\n",
    "\n",
    "- **Líderes de Volume (alto volume + baixo custo)**: Laboratórios como L152 e L132 adotam uma estratégia de alto volume com preços mais acessíveis, buscando maximizar o número de exames realizados.\n",
    "\n",
    "- **Especialistas Premium (custo alto + volume moderado)**: Laboratórios como L133, L139 e L123 praticam preços mais elevados, possivelmente focando em exames de maior complexidade ou atendimento diferenciado.\n",
    "\n",
    "- **Generalistas Balanceados**: Laboratórios como L166 e L156 mantêm um equilíbrio entre volume e preço, com desempenho sólido em todas as métricas.\n",
    "\n",
    "A pontuação composta nos permite identificar os laboratórios que conseguem otimizar melhor todas as dimensões de desempenho, considerando os diferentes pesos atribuídos a cada métrica."
   ]
  },
  {
   "cell_type": "markdown",
   "id": "b0ae4d38",
   "metadata": {},
   "source": [
    "### 4.5 Mapa Geográfico: Localização dos Laboratórios\n",
    "\n",
    "Este mapa utiliza `geopandas` para exibir a localização dos laboratórios, com o tamanho dos pontos representando o volume de exames realizados."
   ]
  },
  {
   "cell_type": "code",
   "execution_count": 12,
   "id": "e9bcfa1c",
   "metadata": {},
   "outputs": [
    {
     "data": {
      "application/vnd.plotly.v1+json": {
       "config": {
        "plotlyServerURL": "https://plot.ly"
       },
       "data": [
        {
         "hovertemplate": "<b>%{hovertext}</b><br><br>num_exams=%{marker.size}<br>latitude=%{lat}<br>longitude=%{lon}<extra></extra>",
         "hovertext": [
          "L152",
          "L520",
          "L141",
          "L524",
          "L545",
          "L158",
          "L172",
          "L518",
          "L531",
          "L160",
          "L533",
          "L537",
          "L061",
          "L536",
          "L153",
          "L504",
          "L132",
          "L070",
          "L521",
          "L166",
          "L121",
          "L527",
          "L534",
          "L720",
          "L138",
          "L532",
          "L069",
          "L526",
          "L503",
          "L662",
          "L080",
          "L148",
          "L889",
          "L538",
          "L541",
          "L168",
          "L167",
          "L169",
          "L150",
          "L529",
          "L134",
          "L530",
          "L539",
          "L154",
          "L156",
          "L528",
          "L155",
          "L125",
          "L126",
          "L137",
          "L060",
          "L068",
          "L072",
          "L564",
          "L519",
          "L124",
          "L083",
          "L144",
          "L922",
          "L523",
          "L067",
          "L769",
          "L442",
          "L658",
          "L127",
          "L164",
          "L522",
          "L517",
          "L661",
          "L146",
          "L525",
          "L768",
          "L063",
          "L660",
          "L670",
          "L697",
          "L561",
          "L149",
          "L695",
          "L139",
          "L666",
          "L170",
          "L123",
          "L145",
          "L082",
          "L157",
          "L171",
          "L131",
          "L122",
          "L165",
          "L162",
          "L669",
          "L903",
          "L133",
          "L058",
          "L703",
          "L664",
          "L698",
          "L763",
          "L066",
          "L159",
          "L065",
          "L540",
          "L064",
          "L120",
          "L173",
          "L161",
          "L075",
          "L668",
          "L140",
          "L071",
          "L886",
          "L535",
          "L723",
          "L163",
          "L967"
         ],
         "lat": [
          34.000319,
          43.2311327,
          47.7162786,
          33.9093875,
          40.9309925,
          39.9924717,
          33.5113314,
          37.6759064,
          37.6993,
          42.7065088,
          37.9115042,
          39.934946,
          47.6208696,
          33.9484477,
          33.9710116,
          41.4877432,
          33.9735891,
          39.9076973,
          42.1077525,
          40.0374664,
          47.632801,
          41.8554575,
          33.7681453,
          47.7158288,
          41.497223,
          33.8254779,
          42.2653422,
          39.912442,
          33.451232,
          33.732926,
          41.5694897,
          37.6822922,
          40.0021676,
          47.750593,
          37.9838036,
          47.6076339,
          40.0303647,
          39.9560828,
          47.7084091,
          42.0281344,
          33.8786308,
          40.0066857,
          47.7510662,
          37.956103,
          47.8044871,
          41.5586991,
          37.9242863,
          37.9765001,
          40.0294758,
          47.6091997,
          47.6219477,
          41.5387268,
          33.4498013,
          42.7473541,
          43.1014617,
          37.7990818,
          39.9495713,
          42.8166911,
          42.1710988,
          39.957358,
          37.9694792,
          43.1201376,
          47.4568023,
          43.0978638,
          33.451232,
          33.7943032,
          42.276897,
          42.300344,
          40.7447179,
          47.760574,
          40.0173148,
          39.9213919,
          41.466876,
          42.8075256,
          43.2272241,
          42.8213859,
          42.2493985,
          37.9553785,
          43.0731473,
          38.4634804,
          34.0708467,
          42.775748,
          39.9507025,
          47.8026806,
          42.8073225,
          37.6762783,
          33.8473632,
          42.2607878,
          47.6821988,
          47.4585122,
          42.1146632,
          47.6674625,
          43.0150099,
          38.0070008,
          39.9130589,
          37.7762785,
          42.247582,
          47.6100869,
          43.1636949,
          33.5774091,
          39.9290428,
          41.4352418,
          34.1054485,
          33.677914,
          39.9457889,
          42.3020867,
          43.0879409,
          39.9218172,
          33.9073497,
          47.7148568,
          47.6516517,
          39.9184081,
          43.0773695,
          43.2530101,
          41.5611182,
          37.984716
         ],
         "legendgroup": "",
         "lon": [
          -84.1629724,
          -75.4445363,
          -122.1838152,
          -84.3529096,
          -90.9437598,
          -75.1035442,
          -84.2316312,
          -121.8772172,
          -121.9014055,
          -71.171084,
          -122.0444705,
          -75.0669325,
          -122.1889933,
          -84.3369582,
          -84.5511075,
          -90.4216658,
          -84.4822033,
          -75.289741,
          -70.7667516,
          -75.1206684,
          -122.1330652,
          -89.489907,
          -84.388286,
          -122.180939,
          -90.5296326,
          -84.2571003,
          -71.7927896,
          -75.0583428,
          -94.0683805,
          -84.6724126,
          -90.5271587,
          -121.8756054,
          -75.2825227,
          -122.154299,
          -122.0360361,
          -122.3123067,
          -75.1834481,
          -75.1987675,
          -122.335505,
          -71.31267,
          -84.0214922,
          -75.2190999,
          -122.6477891,
          -121.9694513,
          -122.2090808,
          -90.518775,
          -121.7371186,
          -121.8012144,
          -75.0869837,
          -122.3262981,
          -122.1870553,
          -90.5511836,
          -84.508719,
          -71.1313972,
          -76.060889,
          -121.9166879,
          -75.1567543,
          -71.5409322,
          -70.9577834,
          -75.1642512,
          -121.2901678,
          -76.1627233,
          -122.3457174,
          -75.3055966,
          -94.0683805,
          -84.2778831,
          -71.4160299,
          -71.8038673,
          -90.9114665,
          -122.2527338,
          -75.1509415,
          -75.2561934,
          -90.5478657,
          -71.2622671,
          -75.4323824,
          -70.9065276,
          -84.4259382,
          -122.0411404,
          -75.2957098,
          -121.416546,
          -84.3000492,
          -71.2495637,
          -75.2286725,
          -122.3389483,
          -71.2650041,
          -121.7853993,
          -84.5065753,
          -83.7391191,
          -122.1259728,
          -122.3370864,
          -71.463432,
          -122.3817193,
          -75.0398441,
          -121.868574,
          -75.1518927,
          -121.9679406,
          -70.9842195,
          -122.3243021,
          -76.2366636,
          -84.3944193,
          -75.170544,
          -91.0759938,
          -84.5409941,
          -84.00695,
          -75.1533585,
          -71.407008,
          -75.2624454,
          -75.1730023,
          -84.3581189,
          -122.1866063,
          -122.687053,
          -75.035649,
          -75.6536905,
          -75.1860015,
          -90.5915183,
          -122.0383645
         ],
         "marker": {
          "color": "#636efa",
          "size": [
           95255,
           20481,
           50631,
           13187,
           2805,
           46660,
           20259,
           1916,
           17707,
           33938,
           12826,
           9232,
           46043,
           16043,
           19840,
           3164,
           50135,
           5066,
           7245,
           76159,
           88430,
           10276,
           9058,
           1835,
           22919,
           17351,
           12658,
           7240,
           10922,
           73354,
           5875,
           33568,
           5250,
           10112,
           18694,
           27948,
           30993,
           23361,
           38471,
           3858,
           17382,
           3800,
           14135,
           30890,
           69625,
           18068,
           58878,
           22888,
           49180,
           7473,
           18430,
           9229,
           13653,
           9563,
           5446,
           10495,
           5467,
           10852,
           7060,
           13894,
           3901,
           9692,
           1174,
           4181,
           235,
           33621,
           20099,
           8407,
           2865,
           10162,
           34858,
           8357,
           18452,
           645,
           2799,
           6824,
           8039,
           68,
           6153,
           93495,
           1288,
           13486,
           68469,
           19847,
           5466,
           35382,
           12601,
           36039,
           8331,
           9005,
           6057,
           3102,
           4156,
           121886,
           38481,
           14967,
           48370,
           1943,
           4297,
           14174,
           34824,
           13785,
           19534,
           11635,
           20031,
           17993,
           14307,
           1961,
           4046,
           23726,
           9098,
           10381,
           5097,
           2281,
           11772,
           90
          ],
          "sizemode": "area",
          "sizeref": 135.42888888888888
         },
         "mode": "markers",
         "name": "",
         "showlegend": false,
         "subplot": "mapbox",
         "type": "scattermapbox"
        }
       ],
       "layout": {
        "height": 700,
        "legend": {
         "itemsizing": "constant",
         "tracegroupgap": 0
        },
        "mapbox": {
         "center": {
          "lat": 40.76528147844828,
          "lon": -92.59423511034481
         },
         "domain": {
          "x": [
           0,
           1
          ],
          "y": [
           0,
           1
          ]
         },
         "style": "carto-positron",
         "zoom": 3
        },
        "margin": {
         "b": 0,
         "l": 0,
         "r": 0,
         "t": 50
        },
        "template": {
         "data": {
          "bar": [
           {
            "error_x": {
             "color": "#2a3f5f"
            },
            "error_y": {
             "color": "#2a3f5f"
            },
            "marker": {
             "line": {
              "color": "#E5ECF6",
              "width": 0.5
             },
             "pattern": {
              "fillmode": "overlay",
              "size": 10,
              "solidity": 0.2
             }
            },
            "type": "bar"
           }
          ],
          "barpolar": [
           {
            "marker": {
             "line": {
              "color": "#E5ECF6",
              "width": 0.5
             },
             "pattern": {
              "fillmode": "overlay",
              "size": 10,
              "solidity": 0.2
             }
            },
            "type": "barpolar"
           }
          ],
          "carpet": [
           {
            "aaxis": {
             "endlinecolor": "#2a3f5f",
             "gridcolor": "white",
             "linecolor": "white",
             "minorgridcolor": "white",
             "startlinecolor": "#2a3f5f"
            },
            "baxis": {
             "endlinecolor": "#2a3f5f",
             "gridcolor": "white",
             "linecolor": "white",
             "minorgridcolor": "white",
             "startlinecolor": "#2a3f5f"
            },
            "type": "carpet"
           }
          ],
          "choropleth": [
           {
            "colorbar": {
             "outlinewidth": 0,
             "ticks": ""
            },
            "type": "choropleth"
           }
          ],
          "contour": [
           {
            "colorbar": {
             "outlinewidth": 0,
             "ticks": ""
            },
            "colorscale": [
             [
              0,
              "#0d0887"
             ],
             [
              0.1111111111111111,
              "#46039f"
             ],
             [
              0.2222222222222222,
              "#7201a8"
             ],
             [
              0.3333333333333333,
              "#9c179e"
             ],
             [
              0.4444444444444444,
              "#bd3786"
             ],
             [
              0.5555555555555556,
              "#d8576b"
             ],
             [
              0.6666666666666666,
              "#ed7953"
             ],
             [
              0.7777777777777778,
              "#fb9f3a"
             ],
             [
              0.8888888888888888,
              "#fdca26"
             ],
             [
              1,
              "#f0f921"
             ]
            ],
            "type": "contour"
           }
          ],
          "contourcarpet": [
           {
            "colorbar": {
             "outlinewidth": 0,
             "ticks": ""
            },
            "type": "contourcarpet"
           }
          ],
          "heatmap": [
           {
            "colorbar": {
             "outlinewidth": 0,
             "ticks": ""
            },
            "colorscale": [
             [
              0,
              "#0d0887"
             ],
             [
              0.1111111111111111,
              "#46039f"
             ],
             [
              0.2222222222222222,
              "#7201a8"
             ],
             [
              0.3333333333333333,
              "#9c179e"
             ],
             [
              0.4444444444444444,
              "#bd3786"
             ],
             [
              0.5555555555555556,
              "#d8576b"
             ],
             [
              0.6666666666666666,
              "#ed7953"
             ],
             [
              0.7777777777777778,
              "#fb9f3a"
             ],
             [
              0.8888888888888888,
              "#fdca26"
             ],
             [
              1,
              "#f0f921"
             ]
            ],
            "type": "heatmap"
           }
          ],
          "heatmapgl": [
           {
            "colorbar": {
             "outlinewidth": 0,
             "ticks": ""
            },
            "colorscale": [
             [
              0,
              "#0d0887"
             ],
             [
              0.1111111111111111,
              "#46039f"
             ],
             [
              0.2222222222222222,
              "#7201a8"
             ],
             [
              0.3333333333333333,
              "#9c179e"
             ],
             [
              0.4444444444444444,
              "#bd3786"
             ],
             [
              0.5555555555555556,
              "#d8576b"
             ],
             [
              0.6666666666666666,
              "#ed7953"
             ],
             [
              0.7777777777777778,
              "#fb9f3a"
             ],
             [
              0.8888888888888888,
              "#fdca26"
             ],
             [
              1,
              "#f0f921"
             ]
            ],
            "type": "heatmapgl"
           }
          ],
          "histogram": [
           {
            "marker": {
             "pattern": {
              "fillmode": "overlay",
              "size": 10,
              "solidity": 0.2
             }
            },
            "type": "histogram"
           }
          ],
          "histogram2d": [
           {
            "colorbar": {
             "outlinewidth": 0,
             "ticks": ""
            },
            "colorscale": [
             [
              0,
              "#0d0887"
             ],
             [
              0.1111111111111111,
              "#46039f"
             ],
             [
              0.2222222222222222,
              "#7201a8"
             ],
             [
              0.3333333333333333,
              "#9c179e"
             ],
             [
              0.4444444444444444,
              "#bd3786"
             ],
             [
              0.5555555555555556,
              "#d8576b"
             ],
             [
              0.6666666666666666,
              "#ed7953"
             ],
             [
              0.7777777777777778,
              "#fb9f3a"
             ],
             [
              0.8888888888888888,
              "#fdca26"
             ],
             [
              1,
              "#f0f921"
             ]
            ],
            "type": "histogram2d"
           }
          ],
          "histogram2dcontour": [
           {
            "colorbar": {
             "outlinewidth": 0,
             "ticks": ""
            },
            "colorscale": [
             [
              0,
              "#0d0887"
             ],
             [
              0.1111111111111111,
              "#46039f"
             ],
             [
              0.2222222222222222,
              "#7201a8"
             ],
             [
              0.3333333333333333,
              "#9c179e"
             ],
             [
              0.4444444444444444,
              "#bd3786"
             ],
             [
              0.5555555555555556,
              "#d8576b"
             ],
             [
              0.6666666666666666,
              "#ed7953"
             ],
             [
              0.7777777777777778,
              "#fb9f3a"
             ],
             [
              0.8888888888888888,
              "#fdca26"
             ],
             [
              1,
              "#f0f921"
             ]
            ],
            "type": "histogram2dcontour"
           }
          ],
          "mesh3d": [
           {
            "colorbar": {
             "outlinewidth": 0,
             "ticks": ""
            },
            "type": "mesh3d"
           }
          ],
          "parcoords": [
           {
            "line": {
             "colorbar": {
              "outlinewidth": 0,
              "ticks": ""
             }
            },
            "type": "parcoords"
           }
          ],
          "pie": [
           {
            "automargin": true,
            "type": "pie"
           }
          ],
          "scatter": [
           {
            "fillpattern": {
             "fillmode": "overlay",
             "size": 10,
             "solidity": 0.2
            },
            "type": "scatter"
           }
          ],
          "scatter3d": [
           {
            "line": {
             "colorbar": {
              "outlinewidth": 0,
              "ticks": ""
             }
            },
            "marker": {
             "colorbar": {
              "outlinewidth": 0,
              "ticks": ""
             }
            },
            "type": "scatter3d"
           }
          ],
          "scattercarpet": [
           {
            "marker": {
             "colorbar": {
              "outlinewidth": 0,
              "ticks": ""
             }
            },
            "type": "scattercarpet"
           }
          ],
          "scattergeo": [
           {
            "marker": {
             "colorbar": {
              "outlinewidth": 0,
              "ticks": ""
             }
            },
            "type": "scattergeo"
           }
          ],
          "scattergl": [
           {
            "marker": {
             "colorbar": {
              "outlinewidth": 0,
              "ticks": ""
             }
            },
            "type": "scattergl"
           }
          ],
          "scattermapbox": [
           {
            "marker": {
             "colorbar": {
              "outlinewidth": 0,
              "ticks": ""
             }
            },
            "type": "scattermapbox"
           }
          ],
          "scatterpolar": [
           {
            "marker": {
             "colorbar": {
              "outlinewidth": 0,
              "ticks": ""
             }
            },
            "type": "scatterpolar"
           }
          ],
          "scatterpolargl": [
           {
            "marker": {
             "colorbar": {
              "outlinewidth": 0,
              "ticks": ""
             }
            },
            "type": "scatterpolargl"
           }
          ],
          "scatterternary": [
           {
            "marker": {
             "colorbar": {
              "outlinewidth": 0,
              "ticks": ""
             }
            },
            "type": "scatterternary"
           }
          ],
          "surface": [
           {
            "colorbar": {
             "outlinewidth": 0,
             "ticks": ""
            },
            "colorscale": [
             [
              0,
              "#0d0887"
             ],
             [
              0.1111111111111111,
              "#46039f"
             ],
             [
              0.2222222222222222,
              "#7201a8"
             ],
             [
              0.3333333333333333,
              "#9c179e"
             ],
             [
              0.4444444444444444,
              "#bd3786"
             ],
             [
              0.5555555555555556,
              "#d8576b"
             ],
             [
              0.6666666666666666,
              "#ed7953"
             ],
             [
              0.7777777777777778,
              "#fb9f3a"
             ],
             [
              0.8888888888888888,
              "#fdca26"
             ],
             [
              1,
              "#f0f921"
             ]
            ],
            "type": "surface"
           }
          ],
          "table": [
           {
            "cells": {
             "fill": {
              "color": "#EBF0F8"
             },
             "line": {
              "color": "white"
             }
            },
            "header": {
             "fill": {
              "color": "#C8D4E3"
             },
             "line": {
              "color": "white"
             }
            },
            "type": "table"
           }
          ]
         },
         "layout": {
          "annotationdefaults": {
           "arrowcolor": "#2a3f5f",
           "arrowhead": 0,
           "arrowwidth": 1
          },
          "autotypenumbers": "strict",
          "coloraxis": {
           "colorbar": {
            "outlinewidth": 0,
            "ticks": ""
           }
          },
          "colorscale": {
           "diverging": [
            [
             0,
             "#8e0152"
            ],
            [
             0.1,
             "#c51b7d"
            ],
            [
             0.2,
             "#de77ae"
            ],
            [
             0.3,
             "#f1b6da"
            ],
            [
             0.4,
             "#fde0ef"
            ],
            [
             0.5,
             "#f7f7f7"
            ],
            [
             0.6,
             "#e6f5d0"
            ],
            [
             0.7,
             "#b8e186"
            ],
            [
             0.8,
             "#7fbc41"
            ],
            [
             0.9,
             "#4d9221"
            ],
            [
             1,
             "#276419"
            ]
           ],
           "sequential": [
            [
             0,
             "#0d0887"
            ],
            [
             0.1111111111111111,
             "#46039f"
            ],
            [
             0.2222222222222222,
             "#7201a8"
            ],
            [
             0.3333333333333333,
             "#9c179e"
            ],
            [
             0.4444444444444444,
             "#bd3786"
            ],
            [
             0.5555555555555556,
             "#d8576b"
            ],
            [
             0.6666666666666666,
             "#ed7953"
            ],
            [
             0.7777777777777778,
             "#fb9f3a"
            ],
            [
             0.8888888888888888,
             "#fdca26"
            ],
            [
             1,
             "#f0f921"
            ]
           ],
           "sequentialminus": [
            [
             0,
             "#0d0887"
            ],
            [
             0.1111111111111111,
             "#46039f"
            ],
            [
             0.2222222222222222,
             "#7201a8"
            ],
            [
             0.3333333333333333,
             "#9c179e"
            ],
            [
             0.4444444444444444,
             "#bd3786"
            ],
            [
             0.5555555555555556,
             "#d8576b"
            ],
            [
             0.6666666666666666,
             "#ed7953"
            ],
            [
             0.7777777777777778,
             "#fb9f3a"
            ],
            [
             0.8888888888888888,
             "#fdca26"
            ],
            [
             1,
             "#f0f921"
            ]
           ]
          },
          "colorway": [
           "#636efa",
           "#EF553B",
           "#00cc96",
           "#ab63fa",
           "#FFA15A",
           "#19d3f3",
           "#FF6692",
           "#B6E880",
           "#FF97FF",
           "#FECB52"
          ],
          "font": {
           "color": "#2a3f5f"
          },
          "geo": {
           "bgcolor": "white",
           "lakecolor": "white",
           "landcolor": "#E5ECF6",
           "showlakes": true,
           "showland": true,
           "subunitcolor": "white"
          },
          "hoverlabel": {
           "align": "left"
          },
          "hovermode": "closest",
          "mapbox": {
           "style": "light"
          },
          "paper_bgcolor": "white",
          "plot_bgcolor": "#E5ECF6",
          "polar": {
           "angularaxis": {
            "gridcolor": "white",
            "linecolor": "white",
            "ticks": ""
           },
           "bgcolor": "#E5ECF6",
           "radialaxis": {
            "gridcolor": "white",
            "linecolor": "white",
            "ticks": ""
           }
          },
          "scene": {
           "xaxis": {
            "backgroundcolor": "#E5ECF6",
            "gridcolor": "white",
            "gridwidth": 2,
            "linecolor": "white",
            "showbackground": true,
            "ticks": "",
            "zerolinecolor": "white"
           },
           "yaxis": {
            "backgroundcolor": "#E5ECF6",
            "gridcolor": "white",
            "gridwidth": 2,
            "linecolor": "white",
            "showbackground": true,
            "ticks": "",
            "zerolinecolor": "white"
           },
           "zaxis": {
            "backgroundcolor": "#E5ECF6",
            "gridcolor": "white",
            "gridwidth": 2,
            "linecolor": "white",
            "showbackground": true,
            "ticks": "",
            "zerolinecolor": "white"
           }
          },
          "shapedefaults": {
           "line": {
            "color": "#2a3f5f"
           }
          },
          "ternary": {
           "aaxis": {
            "gridcolor": "white",
            "linecolor": "white",
            "ticks": ""
           },
           "baxis": {
            "gridcolor": "white",
            "linecolor": "white",
            "ticks": ""
           },
           "bgcolor": "#E5ECF6",
           "caxis": {
            "gridcolor": "white",
            "linecolor": "white",
            "ticks": ""
           }
          },
          "title": {
           "x": 0.05
          },
          "xaxis": {
           "automargin": true,
           "gridcolor": "white",
           "linecolor": "white",
           "ticks": "",
           "title": {
            "standoff": 15
           },
           "zerolinecolor": "white",
           "zerolinewidth": 2
          },
          "yaxis": {
           "automargin": true,
           "gridcolor": "white",
           "linecolor": "white",
           "ticks": "",
           "title": {
            "standoff": 15
           },
           "zerolinecolor": "white",
           "zerolinewidth": 2
          }
         }
        },
        "title": {
         "text": "Localização dos Laboratórios por Volume de Exames"
        }
       }
      }
     },
     "metadata": {},
     "output_type": "display_data"
    }
   ],
   "source": [
    "# Corrigir criação do mapa geográfico\n",
    "if 'latitude' not in df_labs.columns or 'longitude' not in df_labs.columns:\n",
    "    df_labs[['latitude', 'longitude']] = df_labs['location'].str.split(',', expand=True).astype(float)\n",
    "\n",
    "# Criar geometria dos pontos\n",
    "geometry = [Point(xy) for xy in zip(df_labs['longitude'], df_labs['latitude'])]\n",
    "gdf_labs = gpd.GeoDataFrame(df_labs, geometry=geometry)\n",
    "\n",
    "# Adicionar volume de exames ao GeoDataFrame\n",
    "gdf_labs = gdf_labs.merge(lab_performance[['lab_id', 'num_exams']], \n",
    "                        left_on='lab_location_id', right_on='lab_id', how='left')\n",
    "\n",
    "# Remover linhas sem coordenadas ou volume de exames\n",
    "gdf_labs = gdf_labs.dropna(subset=['latitude', 'longitude', 'num_exams'])\n",
    "\n",
    "# Criar mapa interativo com Plotly\n",
    "fig = px.scatter_mapbox(gdf_labs,\n",
    "                     lat='latitude',\n",
    "                     lon='longitude',\n",
    "                     size='num_exams',\n",
    "                     hover_name='lab_id',\n",
    "                     size_max=30,\n",
    "                     zoom=3,\n",
    "                     height=700,\n",
    "                     title='Localização dos Laboratórios por Volume de Exames')\n",
    "\n",
    "fig.update_layout(mapbox_style='carto-positron')\n",
    "fig.update_layout(margin={\"r\": 0, \"t\": 50, \"l\": 0, \"b\": 0})\n",
    "fig.show()"
   ]
  },
  {
   "cell_type": "markdown",
   "id": "a8069a4f",
   "metadata": {},
   "source": [
    "### 4.6 Análise de Métricas-Chave de Performance\n",
    "\n",
    "Para avaliar adequadamente o desempenho dos laboratórios, consideramos as seguintes métricas essenciais:\n",
    "\n",
    "- **Volume de Exames (num_exams)**: Representa a capacidade operacional e a participação de mercado do laboratório\n",
    "- **Receita Total (total_revenue)**: Indica o faturamento gerado pelos serviços prestados\n",
    "- **Pacientes Únicos (unique_patients)**: Representa o alcance do laboratório na população\n",
    "- **Custo Médio por Exame (avg_cost)**: Reflete a estratégia de preços e posicionamento de mercado\n",
    "- **Receita por Paciente**: Calcula-se dividindo a receita total pelo número de pacientes únicos, indicando o valor médio que cada paciente gera para o laboratório\n",
    "\n",
    "Estas métricas permitem identificar diferentes estratégias de negócio entre os laboratórios. Por exemplo, alguns laboratórios focam em alto volume com margens menores, enquanto outros priorizam exames especializados de maior valor."
   ]
  },
  {
   "cell_type": "markdown",
   "id": "89270d2b",
   "metadata": {},
   "source": [
    "### 4.7 Comparação de Desempenho dos Principais Laboratórios\n",
    "\n",
    "Vamos comparar os principais laboratórios em termos de volume de exames, receita média por paciente e custo médio dos exames."
   ]
  },
  {
   "cell_type": "code",
   "execution_count": 13,
   "id": "a83d0f38",
   "metadata": {},
   "outputs": [
    {
     "data": {
      "application/vnd.plotly.v1+json": {
       "config": {
        "plotlyServerURL": "https://plot.ly"
       },
       "data": [
        {
         "hovertemplate": "<b>%{hovertext}</b><br><br>num_exams=%{x}<br>avg_cost=%{y}<br>unique_patients=%{marker.size}<br>revenue_per_patient=%{marker.color}<extra></extra>",
         "hovertext": [
          "L133",
          "L152",
          "L139",
          "L121",
          "L166",
          "L662",
          "L156",
          "L123",
          "L155",
          "L141",
          "L132",
          "L126",
          "L664",
          "L158",
          "L061"
         ],
         "legendgroup": "",
         "marker": {
          "color": [
           329.72995654240515,
           282.1104887678693,
           399.44043684018925,
           345.71396596511687,
           247.6294277471807,
           216.7661839192181,
           265.88996598995396,
           366.0714384191176,
           315.1575855274942,
           231.99473375753516,
           147.931700244775,
           174.9698138716548,
           253.3031245855045,
           198.1348350132626,
           267.2021303832477
          ],
          "coloraxis": "coloraxis",
          "size": [
           29454,
           22035,
           21976,
           18863,
           19065,
           18519,
           19112,
           17408,
           16749,
           11944,
           10622,
           10799,
           10555,
           9425,
           12655
          ],
          "sizemode": "area",
          "sizeref": 14.545185185185185,
          "symbol": "circle"
         },
         "mode": "markers",
         "name": "",
         "orientation": "v",
         "showlegend": false,
         "type": "scatter",
         "x": [
          121886,
          95255,
          93495,
          88430,
          76159,
          73354,
          69625,
          68469,
          58878,
          50631,
          50135,
          49180,
          48370,
          46660,
          46043
         ],
         "xaxis": "x",
         "y": [
          79.67991516663112,
          65.25961492835022,
          93.88847574736616,
          73.74423317878548,
          61.98945679433816,
          54.724936063473024,
          72.98655698384202,
          93.07236267507923,
          89.65274635687354,
          54.72823171574727,
          31.341987035005484,
          38.4200695404636,
          55.27422948108332,
          40.021877839691385,
          73.44097821601547
         ],
         "yaxis": "y"
        }
       ],
       "layout": {
        "coloraxis": {
         "colorbar": {
          "title": {
           "text": "Receita por Paciente ($)"
          }
         },
         "colorscale": [
          [
           0,
           "#440154"
          ],
          [
           0.1111111111111111,
           "#482878"
          ],
          [
           0.2222222222222222,
           "#3e4989"
          ],
          [
           0.3333333333333333,
           "#31688e"
          ],
          [
           0.4444444444444444,
           "#26828e"
          ],
          [
           0.5555555555555556,
           "#1f9e89"
          ],
          [
           0.6666666666666666,
           "#35b779"
          ],
          [
           0.7777777777777778,
           "#6ece58"
          ],
          [
           0.8888888888888888,
           "#b5de2b"
          ],
          [
           1,
           "#fde725"
          ]
         ]
        },
        "height": 600,
        "legend": {
         "itemsizing": "constant",
         "tracegroupgap": 0
        },
        "template": {
         "data": {
          "bar": [
           {
            "error_x": {
             "color": "#2a3f5f"
            },
            "error_y": {
             "color": "#2a3f5f"
            },
            "marker": {
             "line": {
              "color": "#E5ECF6",
              "width": 0.5
             },
             "pattern": {
              "fillmode": "overlay",
              "size": 10,
              "solidity": 0.2
             }
            },
            "type": "bar"
           }
          ],
          "barpolar": [
           {
            "marker": {
             "line": {
              "color": "#E5ECF6",
              "width": 0.5
             },
             "pattern": {
              "fillmode": "overlay",
              "size": 10,
              "solidity": 0.2
             }
            },
            "type": "barpolar"
           }
          ],
          "carpet": [
           {
            "aaxis": {
             "endlinecolor": "#2a3f5f",
             "gridcolor": "white",
             "linecolor": "white",
             "minorgridcolor": "white",
             "startlinecolor": "#2a3f5f"
            },
            "baxis": {
             "endlinecolor": "#2a3f5f",
             "gridcolor": "white",
             "linecolor": "white",
             "minorgridcolor": "white",
             "startlinecolor": "#2a3f5f"
            },
            "type": "carpet"
           }
          ],
          "choropleth": [
           {
            "colorbar": {
             "outlinewidth": 0,
             "ticks": ""
            },
            "type": "choropleth"
           }
          ],
          "contour": [
           {
            "colorbar": {
             "outlinewidth": 0,
             "ticks": ""
            },
            "colorscale": [
             [
              0,
              "#0d0887"
             ],
             [
              0.1111111111111111,
              "#46039f"
             ],
             [
              0.2222222222222222,
              "#7201a8"
             ],
             [
              0.3333333333333333,
              "#9c179e"
             ],
             [
              0.4444444444444444,
              "#bd3786"
             ],
             [
              0.5555555555555556,
              "#d8576b"
             ],
             [
              0.6666666666666666,
              "#ed7953"
             ],
             [
              0.7777777777777778,
              "#fb9f3a"
             ],
             [
              0.8888888888888888,
              "#fdca26"
             ],
             [
              1,
              "#f0f921"
             ]
            ],
            "type": "contour"
           }
          ],
          "contourcarpet": [
           {
            "colorbar": {
             "outlinewidth": 0,
             "ticks": ""
            },
            "type": "contourcarpet"
           }
          ],
          "heatmap": [
           {
            "colorbar": {
             "outlinewidth": 0,
             "ticks": ""
            },
            "colorscale": [
             [
              0,
              "#0d0887"
             ],
             [
              0.1111111111111111,
              "#46039f"
             ],
             [
              0.2222222222222222,
              "#7201a8"
             ],
             [
              0.3333333333333333,
              "#9c179e"
             ],
             [
              0.4444444444444444,
              "#bd3786"
             ],
             [
              0.5555555555555556,
              "#d8576b"
             ],
             [
              0.6666666666666666,
              "#ed7953"
             ],
             [
              0.7777777777777778,
              "#fb9f3a"
             ],
             [
              0.8888888888888888,
              "#fdca26"
             ],
             [
              1,
              "#f0f921"
             ]
            ],
            "type": "heatmap"
           }
          ],
          "heatmapgl": [
           {
            "colorbar": {
             "outlinewidth": 0,
             "ticks": ""
            },
            "colorscale": [
             [
              0,
              "#0d0887"
             ],
             [
              0.1111111111111111,
              "#46039f"
             ],
             [
              0.2222222222222222,
              "#7201a8"
             ],
             [
              0.3333333333333333,
              "#9c179e"
             ],
             [
              0.4444444444444444,
              "#bd3786"
             ],
             [
              0.5555555555555556,
              "#d8576b"
             ],
             [
              0.6666666666666666,
              "#ed7953"
             ],
             [
              0.7777777777777778,
              "#fb9f3a"
             ],
             [
              0.8888888888888888,
              "#fdca26"
             ],
             [
              1,
              "#f0f921"
             ]
            ],
            "type": "heatmapgl"
           }
          ],
          "histogram": [
           {
            "marker": {
             "pattern": {
              "fillmode": "overlay",
              "size": 10,
              "solidity": 0.2
             }
            },
            "type": "histogram"
           }
          ],
          "histogram2d": [
           {
            "colorbar": {
             "outlinewidth": 0,
             "ticks": ""
            },
            "colorscale": [
             [
              0,
              "#0d0887"
             ],
             [
              0.1111111111111111,
              "#46039f"
             ],
             [
              0.2222222222222222,
              "#7201a8"
             ],
             [
              0.3333333333333333,
              "#9c179e"
             ],
             [
              0.4444444444444444,
              "#bd3786"
             ],
             [
              0.5555555555555556,
              "#d8576b"
             ],
             [
              0.6666666666666666,
              "#ed7953"
             ],
             [
              0.7777777777777778,
              "#fb9f3a"
             ],
             [
              0.8888888888888888,
              "#fdca26"
             ],
             [
              1,
              "#f0f921"
             ]
            ],
            "type": "histogram2d"
           }
          ],
          "histogram2dcontour": [
           {
            "colorbar": {
             "outlinewidth": 0,
             "ticks": ""
            },
            "colorscale": [
             [
              0,
              "#0d0887"
             ],
             [
              0.1111111111111111,
              "#46039f"
             ],
             [
              0.2222222222222222,
              "#7201a8"
             ],
             [
              0.3333333333333333,
              "#9c179e"
             ],
             [
              0.4444444444444444,
              "#bd3786"
             ],
             [
              0.5555555555555556,
              "#d8576b"
             ],
             [
              0.6666666666666666,
              "#ed7953"
             ],
             [
              0.7777777777777778,
              "#fb9f3a"
             ],
             [
              0.8888888888888888,
              "#fdca26"
             ],
             [
              1,
              "#f0f921"
             ]
            ],
            "type": "histogram2dcontour"
           }
          ],
          "mesh3d": [
           {
            "colorbar": {
             "outlinewidth": 0,
             "ticks": ""
            },
            "type": "mesh3d"
           }
          ],
          "parcoords": [
           {
            "line": {
             "colorbar": {
              "outlinewidth": 0,
              "ticks": ""
             }
            },
            "type": "parcoords"
           }
          ],
          "pie": [
           {
            "automargin": true,
            "type": "pie"
           }
          ],
          "scatter": [
           {
            "fillpattern": {
             "fillmode": "overlay",
             "size": 10,
             "solidity": 0.2
            },
            "type": "scatter"
           }
          ],
          "scatter3d": [
           {
            "line": {
             "colorbar": {
              "outlinewidth": 0,
              "ticks": ""
             }
            },
            "marker": {
             "colorbar": {
              "outlinewidth": 0,
              "ticks": ""
             }
            },
            "type": "scatter3d"
           }
          ],
          "scattercarpet": [
           {
            "marker": {
             "colorbar": {
              "outlinewidth": 0,
              "ticks": ""
             }
            },
            "type": "scattercarpet"
           }
          ],
          "scattergeo": [
           {
            "marker": {
             "colorbar": {
              "outlinewidth": 0,
              "ticks": ""
             }
            },
            "type": "scattergeo"
           }
          ],
          "scattergl": [
           {
            "marker": {
             "colorbar": {
              "outlinewidth": 0,
              "ticks": ""
             }
            },
            "type": "scattergl"
           }
          ],
          "scattermapbox": [
           {
            "marker": {
             "colorbar": {
              "outlinewidth": 0,
              "ticks": ""
             }
            },
            "type": "scattermapbox"
           }
          ],
          "scatterpolar": [
           {
            "marker": {
             "colorbar": {
              "outlinewidth": 0,
              "ticks": ""
             }
            },
            "type": "scatterpolar"
           }
          ],
          "scatterpolargl": [
           {
            "marker": {
             "colorbar": {
              "outlinewidth": 0,
              "ticks": ""
             }
            },
            "type": "scatterpolargl"
           }
          ],
          "scatterternary": [
           {
            "marker": {
             "colorbar": {
              "outlinewidth": 0,
              "ticks": ""
             }
            },
            "type": "scatterternary"
           }
          ],
          "surface": [
           {
            "colorbar": {
             "outlinewidth": 0,
             "ticks": ""
            },
            "colorscale": [
             [
              0,
              "#0d0887"
             ],
             [
              0.1111111111111111,
              "#46039f"
             ],
             [
              0.2222222222222222,
              "#7201a8"
             ],
             [
              0.3333333333333333,
              "#9c179e"
             ],
             [
              0.4444444444444444,
              "#bd3786"
             ],
             [
              0.5555555555555556,
              "#d8576b"
             ],
             [
              0.6666666666666666,
              "#ed7953"
             ],
             [
              0.7777777777777778,
              "#fb9f3a"
             ],
             [
              0.8888888888888888,
              "#fdca26"
             ],
             [
              1,
              "#f0f921"
             ]
            ],
            "type": "surface"
           }
          ],
          "table": [
           {
            "cells": {
             "fill": {
              "color": "#EBF0F8"
             },
             "line": {
              "color": "white"
             }
            },
            "header": {
             "fill": {
              "color": "#C8D4E3"
             },
             "line": {
              "color": "white"
             }
            },
            "type": "table"
           }
          ]
         },
         "layout": {
          "annotationdefaults": {
           "arrowcolor": "#2a3f5f",
           "arrowhead": 0,
           "arrowwidth": 1
          },
          "autotypenumbers": "strict",
          "coloraxis": {
           "colorbar": {
            "outlinewidth": 0,
            "ticks": ""
           }
          },
          "colorscale": {
           "diverging": [
            [
             0,
             "#8e0152"
            ],
            [
             0.1,
             "#c51b7d"
            ],
            [
             0.2,
             "#de77ae"
            ],
            [
             0.3,
             "#f1b6da"
            ],
            [
             0.4,
             "#fde0ef"
            ],
            [
             0.5,
             "#f7f7f7"
            ],
            [
             0.6,
             "#e6f5d0"
            ],
            [
             0.7,
             "#b8e186"
            ],
            [
             0.8,
             "#7fbc41"
            ],
            [
             0.9,
             "#4d9221"
            ],
            [
             1,
             "#276419"
            ]
           ],
           "sequential": [
            [
             0,
             "#0d0887"
            ],
            [
             0.1111111111111111,
             "#46039f"
            ],
            [
             0.2222222222222222,
             "#7201a8"
            ],
            [
             0.3333333333333333,
             "#9c179e"
            ],
            [
             0.4444444444444444,
             "#bd3786"
            ],
            [
             0.5555555555555556,
             "#d8576b"
            ],
            [
             0.6666666666666666,
             "#ed7953"
            ],
            [
             0.7777777777777778,
             "#fb9f3a"
            ],
            [
             0.8888888888888888,
             "#fdca26"
            ],
            [
             1,
             "#f0f921"
            ]
           ],
           "sequentialminus": [
            [
             0,
             "#0d0887"
            ],
            [
             0.1111111111111111,
             "#46039f"
            ],
            [
             0.2222222222222222,
             "#7201a8"
            ],
            [
             0.3333333333333333,
             "#9c179e"
            ],
            [
             0.4444444444444444,
             "#bd3786"
            ],
            [
             0.5555555555555556,
             "#d8576b"
            ],
            [
             0.6666666666666666,
             "#ed7953"
            ],
            [
             0.7777777777777778,
             "#fb9f3a"
            ],
            [
             0.8888888888888888,
             "#fdca26"
            ],
            [
             1,
             "#f0f921"
            ]
           ]
          },
          "colorway": [
           "#636efa",
           "#EF553B",
           "#00cc96",
           "#ab63fa",
           "#FFA15A",
           "#19d3f3",
           "#FF6692",
           "#B6E880",
           "#FF97FF",
           "#FECB52"
          ],
          "font": {
           "color": "#2a3f5f"
          },
          "geo": {
           "bgcolor": "white",
           "lakecolor": "white",
           "landcolor": "#E5ECF6",
           "showlakes": true,
           "showland": true,
           "subunitcolor": "white"
          },
          "hoverlabel": {
           "align": "left"
          },
          "hovermode": "closest",
          "mapbox": {
           "style": "light"
          },
          "paper_bgcolor": "white",
          "plot_bgcolor": "#E5ECF6",
          "polar": {
           "angularaxis": {
            "gridcolor": "white",
            "linecolor": "white",
            "ticks": ""
           },
           "bgcolor": "#E5ECF6",
           "radialaxis": {
            "gridcolor": "white",
            "linecolor": "white",
            "ticks": ""
           }
          },
          "scene": {
           "xaxis": {
            "backgroundcolor": "#E5ECF6",
            "gridcolor": "white",
            "gridwidth": 2,
            "linecolor": "white",
            "showbackground": true,
            "ticks": "",
            "zerolinecolor": "white"
           },
           "yaxis": {
            "backgroundcolor": "#E5ECF6",
            "gridcolor": "white",
            "gridwidth": 2,
            "linecolor": "white",
            "showbackground": true,
            "ticks": "",
            "zerolinecolor": "white"
           },
           "zaxis": {
            "backgroundcolor": "#E5ECF6",
            "gridcolor": "white",
            "gridwidth": 2,
            "linecolor": "white",
            "showbackground": true,
            "ticks": "",
            "zerolinecolor": "white"
           }
          },
          "shapedefaults": {
           "line": {
            "color": "#2a3f5f"
           }
          },
          "ternary": {
           "aaxis": {
            "gridcolor": "white",
            "linecolor": "white",
            "ticks": ""
           },
           "baxis": {
            "gridcolor": "white",
            "linecolor": "white",
            "ticks": ""
           },
           "bgcolor": "#E5ECF6",
           "caxis": {
            "gridcolor": "white",
            "linecolor": "white",
            "ticks": ""
           }
          },
          "title": {
           "x": 0.05
          },
          "xaxis": {
           "automargin": true,
           "gridcolor": "white",
           "linecolor": "white",
           "ticks": "",
           "title": {
            "standoff": 15
           },
           "zerolinecolor": "white",
           "zerolinewidth": 2
          },
          "yaxis": {
           "automargin": true,
           "gridcolor": "white",
           "linecolor": "white",
           "ticks": "",
           "title": {
            "standoff": 15
           },
           "zerolinecolor": "white",
           "zerolinewidth": 2
          }
         }
        },
        "title": {
         "text": "Comparação dos Principais Laboratórios"
        },
        "width": 900,
        "xaxis": {
         "anchor": "y",
         "domain": [
          0,
          1
         ],
         "title": {
          "text": "Volume de Exames (log)"
         },
         "type": "log"
        },
        "yaxis": {
         "anchor": "x",
         "domain": [
          0,
          1
         ],
         "title": {
          "text": "Custo Médio do Exame ($)"
         }
        }
       }
      }
     },
     "metadata": {},
     "output_type": "display_data"
    }
   ],
   "source": [
    "# Adicionar métricas para os top 15 laboratórios\n",
    "top_labs = lab_performance_sorted.copy()\n",
    "top_labs['revenue_per_patient'] = top_labs['total_revenue'] / top_labs['unique_patients']\n",
    "\n",
    "# Criar gráfico de comparação interativo\n",
    "fig = px.scatter(top_labs,\n",
    "                x='num_exams', \n",
    "                y='avg_cost',\n",
    "                size='unique_patients', \n",
    "                color='revenue_per_patient',\n",
    "                hover_name='lab_id',\n",
    "                log_x=True,\n",
    "                size_max=45,\n",
    "                color_continuous_scale='viridis',\n",
    "                title='Comparação dos Principais Laboratórios')\n",
    "\n",
    "fig.update_layout(height=600, width=900,\n",
    "                 xaxis_title='Volume de Exames (log)',\n",
    "                 yaxis_title='Custo Médio do Exame ($)',\n",
    "                 coloraxis_colorbar_title='Receita por Paciente ($)')\n",
    "\n",
    "fig.show()"
   ]
  },
  {
   "cell_type": "markdown",
   "id": "4253dc5a",
   "metadata": {},
   "source": [
    "## 5. Análise Demográfica e Econômica\n",
    "\n",
    "Nesta seção, analisamos as características demográficas e econômicas das regiões para identificar áreas com potencial para novos laboratórios. A análise considera:\n",
    "\n",
    "- **População total**: Representa o tamanho do mercado potencial\n",
    "- **Proporção de idosos**: População com maior demanda por exames laboratoriais\n",
    "- **Nível de renda**: Impacta diretamente o poder aquisitivo e capacidade de pagamento\n",
    "- **Densidade de laboratórios existentes**: Indica o nível de competição na região"
   ]
  },
  {
   "cell_type": "code",
   "execution_count": 14,
   "id": "790897f0",
   "metadata": {},
   "outputs": [],
   "source": [
    "# Combinar dados demográficos e econômicos\n",
    "demographics_econ = pd.merge(\n",
    "    df_demographics,\n",
    "    df_households,\n",
    "    on=['geo_id', 'zcta'],\n",
    "    how='inner'\n",
    ")\n",
    "\n",
    "# Calcular indicadores econômicos e demográficos\n",
    "# 1. Identificar colunas por faixa de renda\n",
    "household_cols = [col for col in demographics_econ.columns if 'totalhouseholds_' in col]\n",
    "demographics_econ['total_households'] = demographics_econ[household_cols].sum(axis=1)\n",
    "\n",
    "# 2. Indicadores de renda\n",
    "high_income_cols = [col for col in household_cols if any(x in col for x in ['$100.000', '$150.000', '$200.000'])]\n",
    "low_income_cols = [col for col in household_cols if any(x in col for x in ['lessthan$10.000', '$10.000to$14.999', '$15.000to$24.999'])]\n",
    "\n",
    "demographics_econ['high_income_ratio'] = demographics_econ[high_income_cols].sum(axis=1) / demographics_econ['total_households']\n",
    "demographics_econ['low_income_ratio'] = demographics_econ[low_income_cols].sum(axis=1) / demographics_econ['total_households']\n",
    "\n",
    "# 3. Proporção de idosos e densidade populacional\n",
    "elderly_cols = ['population_65to74years', 'population_75to84years', 'population_85yearsandover']\n",
    "demographics_econ['elderly_ratio'] = demographics_econ[elderly_cols].sum(axis=1) / demographics_econ['totalpopulation']\n",
    "demographics_econ['people_per_household'] = demographics_econ['totalpopulation'] / demographics_econ['total_households']"
   ]
  },
  {
   "cell_type": "markdown",
   "id": "0d140d02",
   "metadata": {},
   "source": [
    "### 5.1 Correlação entre Indicadores Demográficos e Econômicos\n",
    "\n",
    "O mapa de calor abaixo mostra as correlações entre os principais indicadores demográficos e econômicos. Observações importantes:\n",
    "\n",
    "1. **População e Domicílios**: Forte correlação positiva (0.98), o que é esperado\n",
    "2. **Renda Alta e População**: Correlação positiva moderada (0.23), sugerindo que áreas populosas tendem a ter maior proporção de famílias de alta renda\n",
    "3. **Renda Baixa e Renda Alta**: Correlação negativa forte (-0.59), confirmando que estas são características mutuamente exclusivas de uma região\n",
    "4. **Idade Mediana e Idosos**: Correlação positiva forte (0.74), indicando que áreas com população mais velha têm maior proporção de idosos\n",
    "5. **Pessoas por Domicílio**: Baixa correlação com outros fatores, sugerindo que este indicador varia independentemente da renda ou idade"
   ]
  },
  {
   "cell_type": "code",
   "execution_count": 15,
   "id": "eb295f47",
   "metadata": {},
   "outputs": [
    {
     "data": {
      "image/png": "[encoded data removed]",
      "text/plain": [
       "<Figure size 1000x800 with 2 Axes>"
      ]
     },
     "metadata": {},
     "output_type": "display_data"
    }
   ],
   "source": [
    "# Indicadores principais - análise de correlação\n",
    "key_indicators = ['totalpopulation', 'total_households', 'high_income_ratio',\n",
    "                  'low_income_ratio', 'elderly_ratio', 'people_per_household', 'medianageinyears']\n",
    "\n",
    "# Visualizar correlação\n",
    "plt.figure(figsize=(10, 8))\n",
    "corr = demographics_econ[key_indicators].corr()\n",
    "mask = np.triu(corr)\n",
    "sns.heatmap(corr, mask=mask, annot=True, cmap='coolwarm', fmt='.2f', linewidths=0.5)\n",
    "plt.title('Correlação entre Indicadores Demográficos/Econômicos')\n",
    "plt.tight_layout()\n",
    "plt.show()"
   ]
  },
  {
   "cell_type": "markdown",
   "id": "f1520b9d",
   "metadata": {},
   "source": [
    "## 6. Relação entre Demografia e Desempenho dos Laboratórios\n",
    "\n",
    "Nesta seção, conectamos as características demográficas das áreas com o desempenho dos laboratórios. É fundamental garantir a compatibilidade dos tipos de dados para realizar os merges corretamente."
   ]
  },
  {
   "cell_type": "markdown",
   "id": "29ac3420",
   "metadata": {},
   "source": [
    "### Compatibilização de Tipos para Merge de Dados Geográficos\n",
    "\n",
    "Esta etapa é crucial para a integração correta dos dados demográficos com os dados de desempenho dos laboratórios. A compatibilização de tipos enfrentou dois desafios principais:\n",
    "\n",
    "1. **Zipcodes como Inteiros vs. ZCTAs como Strings**: Os códigos postais estavam armazenados como números inteiros no dataframe de laboratórios, enquanto as ZCTAs nos dados demográficos eram strings. Para permitir a junção correta, convertemos ambos para o mesmo formato string.\n",
    "\n",
    "2. **Tratamento de Valores Nulos**: Alguns laboratórios não possuíam código postal válido. Utilizamos `fillna('0')` antes da conversão para evitar erros de tipo e possibilitar o processamento de todos os registros.\n",
    "\n",
    "O uso do sufixo `_str` na nova coluna (`zipcode_str`) mantém a coluna original intacta, permitindo rastreabilidade e evitando problemas em análises posteriores. Essa prática de manter os dados originais enquanto criamos versões transformadas é considerada uma boa prática em análise de dados."
   ]
  },
  {
   "cell_type": "code",
   "execution_count": 16,
   "id": "eb2e2c5a",
   "metadata": {},
   "outputs": [
    {
     "name": "stdout",
     "output_type": "stream",
     "text": [
      "Laboratórios com dados demográficos vinculados: 95 de 118\n"
     ]
    }
   ],
   "source": [
    "# Garantir compatibilidade dos tipos de dados para o merge\n",
    "# Convertendo zipcode para string em lab_performance\n",
    "lab_performance['zipcode_str'] = lab_performance['zipcode'].fillna('0').astype(int).astype(str)\n",
    "# Garantir que zcta seja string\n",
    "demographics_econ['zcta'] = demographics_econ['zcta'].astype(str)\n",
    "\n",
    "# Relacionar dados de laboratórios com características demográficas usando as colunas de string\n",
    "lab_zcta = pd.merge(\n",
    "    lab_performance,\n",
    "    demographics_econ[['zcta', 'totalpopulation', 'total_households', \n",
    "                      'high_income_ratio', 'low_income_ratio', 'elderly_ratio', 'medianageinyears']],\n",
    "    left_on='zipcode_str',\n",
    "    right_on='zcta',\n",
    "    how='left'\n",
    ")\n",
    "\n",
    "# Calcular métricas de eficiência\n",
    "lab_zcta['exams_per_capita'] = lab_zcta['num_exams'] / lab_zcta['totalpopulation']\n",
    "lab_zcta['revenue_per_capita'] = lab_zcta['total_revenue'] / lab_zcta['totalpopulation']\n",
    "\n",
    "# Remover linhas com dados demográficos ausentes\n",
    "lab_zcta_clean = lab_zcta.dropna(subset=['totalpopulation'])\n",
    "\n",
    "print(f\"Laboratórios com dados demográficos vinculados: {len(lab_zcta_clean)} de {len(lab_performance)}\")"
   ]
  },
  {
   "cell_type": "markdown",
   "id": "688df8b2",
   "metadata": {},
   "source": [
    "### 6.1 Interpretação dos Gráficos de Dispersão\n",
    "\n",
    "A análise dos gráficos revela relações importantes entre características demográficas e desempenho dos laboratórios:\n",
    "\n",
    "**Receita vs. População Total:**\n",
    "- Relação positiva entre população e receita total, com significativa dispersão\n",
    "- Alguns laboratórios mostram bom desempenho mesmo em áreas menos populosas\n",
    "\n",
    "**Receita per Capita vs. Alta Renda:**\n",
    "- Maior receita per capita em áreas de alta renda\n",
    "- Laboratórios em áreas ricas praticam preços mais elevados\n",
    "\n",
    "**Receita per Capita vs. Idosos:**\n",
    "- Forte correlação positiva entre proporção de idosos e receita per capita\n",
    "- Áreas com população mais idosa representam mercados mais lucrativos\n",
    "\n",
    "**Custo Médio vs. Baixa Renda:**\n",
    "- Tendência de preços menores em áreas de baixa renda\n",
    "- Laboratórios adaptam sua estratégia ao poder aquisitivo local\n",
    "\n",
    "**Conclusão:** Identificamos dois modelos de negócio predominantes:\n",
    "- **Estratégia Premium:** Custos elevados em áreas ricas/idosas, alta receita per capita\n",
    "- **Estratégia de Volume:** Preços acessíveis em áreas de menor renda, compensando com volume"
   ]
  },
  {
   "cell_type": "markdown",
   "id": "2f13f452",
   "metadata": {},
   "source": [
    "### 6.2 Análise dos Três Melhores Laboratórios\n",
    "\n",
    "Para compreender melhor as estratégias de negócio mais bem-sucedidas, analisamos em detalhe os três laboratórios com maior volume de exames. Esta análise nos permite:\n",
    "\n",
    "1. **Comparar diferentes modelos de negócio**: O contraste entre as métricas dos três laboratórios revela diferentes abordagens estratégicas (volume vs. premium).\n",
    "\n",
    "2. **Identificar métricas-chave diferenciadoras**: Além do volume de exames, indicadores como receita por paciente e exames por paciente fornecem insights sobre o perfil de serviço e a eficiência operacional.\n",
    "\n",
    "3. **Balancear as métricas para comparação visual**: A normalização usando MinMaxScaler permite visualizar todas as métricas na mesma escala, facilitando a comparação direta entre laboratórios independentemente das magnitudes absolutas.\n",
    "\n",
    "Esta análise comparativa é crucial para identificar as melhores práticas que podem ser replicadas em novos laboratórios, respeitando as características demográficas e econômicas de cada localidade."
   ]
  },
  {
   "cell_type": "code",
   "execution_count": 17,
   "id": "c863e39b",
   "metadata": {},
   "outputs": [
    {
     "name": "stdout",
     "output_type": "stream",
     "text": [
      "Análise Detalhada dos 3 Laboratórios com Melhor Desempenho:\n"
     ]
    },
    {
     "data": {
      "text/html": [
       "<div>\n",
       "<style scoped>\n",
       "    .dataframe tbody tr th:only-of-type {\n",
       "        vertical-align: middle;\n",
       "    }\n",
       "\n",
       "    .dataframe tbody tr th {\n",
       "        vertical-align: top;\n",
       "    }\n",
       "\n",
       "    .dataframe thead th {\n",
       "        text-align: right;\n",
       "    }\n",
       "</style>\n",
       "<table border=\"1\" class=\"dataframe\">\n",
       "  <thead>\n",
       "    <tr style=\"text-align: right;\">\n",
       "      <th></th>\n",
       "      <th>Total de Exames</th>\n",
       "      <th>Receita Total</th>\n",
       "      <th>Pacientes Únicos</th>\n",
       "      <th>Custo Médio por Exame</th>\n",
       "      <th>Receita por Paciente</th>\n",
       "      <th>Exames por Paciente</th>\n",
       "    </tr>\n",
       "  </thead>\n",
       "  <tbody>\n",
       "    <tr>\n",
       "      <th>28</th>\n",
       "      <td>121,886</td>\n",
       "      <td>$9,711,866.14</td>\n",
       "      <td>29,454</td>\n",
       "      <td>$79.68</td>\n",
       "      <td>$329.73</td>\n",
       "      <td>4.1</td>\n",
       "    </tr>\n",
       "    <tr>\n",
       "      <th>41</th>\n",
       "      <td>95,255</td>\n",
       "      <td>$6,216,304.62</td>\n",
       "      <td>22,035</td>\n",
       "      <td>$65.26</td>\n",
       "      <td>$282.11</td>\n",
       "      <td>4.3</td>\n",
       "    </tr>\n",
       "    <tr>\n",
       "      <th>32</th>\n",
       "      <td>93,495</td>\n",
       "      <td>$8,778,103.04</td>\n",
       "      <td>21,976</td>\n",
       "      <td>$93.89</td>\n",
       "      <td>$399.44</td>\n",
       "      <td>4.3</td>\n",
       "    </tr>\n",
       "  </tbody>\n",
       "</table>\n",
       "</div>"
      ],
      "text/plain": [
       "   Total de Exames  Receita Total Pacientes Únicos Custo Médio por Exame  \\\n",
       "28         121,886  $9,711,866.14           29,454                $79.68   \n",
       "41          95,255  $6,216,304.62           22,035                $65.26   \n",
       "32          93,495  $8,778,103.04           21,976                $93.89   \n",
       "\n",
       "   Receita por Paciente Exames por Paciente  \n",
       "28              $329.73                 4.1  \n",
       "41              $282.11                 4.3  \n",
       "32              $399.44                 4.3  "
      ]
     },
     "metadata": {},
     "output_type": "display_data"
    },
    {
     "data": {
      "image/png": "[encoded data removed]",
      "text/plain": [
       "<Figure size 1200x600 with 1 Axes>"
      ]
     },
     "metadata": {},
     "output_type": "display_data"
    }
   ],
   "source": [
    "# Extrair e formatar informações detalhadas dos 3 melhores laboratórios\n",
    "top3_labs = lab_performance.sort_values('num_exams', ascending=False).head(3)\n",
    "\n",
    "# Adicionar métricas complementares\n",
    "top3_labs['revenue_per_patient'] = top3_labs['total_revenue'] / top3_labs['unique_patients']\n",
    "top3_labs['exams_per_patient'] = top3_labs['num_exams'] / top3_labs['unique_patients']\n",
    "\n",
    "# Formatar os valores para melhor visualização\n",
    "top3_labs_display = pd.DataFrame({\n",
    "    'Total de Exames': top3_labs['num_exams'].map('{:,.0f}'.format),\n",
    "    'Receita Total': top3_labs['total_revenue'].map('${:,.2f}'.format),\n",
    "    'Pacientes Únicos': top3_labs['unique_patients'].map('{:,.0f}'.format),\n",
    "    'Custo Médio por Exame': top3_labs['avg_cost'].map('${:.2f}'.format),\n",
    "    'Receita por Paciente': top3_labs['revenue_per_patient'].map('${:.2f}'.format),\n",
    "    'Exames por Paciente': top3_labs['exams_per_patient'].map('{:.1f}'.format)\n",
    "})\n",
    "\n",
    "print(\"Análise Detalhada dos 3 Laboratórios com Melhor Desempenho:\")\n",
    "display(top3_labs_display)\n",
    "\n",
    "# Criar gráfico comparativo de barras múltiplas\n",
    "plt.figure(figsize=(12, 6))\n",
    "\n",
    "# Definir posições das barras\n",
    "labs = top3_labs.index\n",
    "lab_ids = top3_labs['lab_id']\n",
    "x = np.arange(len(lab_ids))\n",
    "width = 0.2\n",
    "\n",
    "# Normalizar métricas para comparabilidade no gráfico\n",
    "metrics = ['num_exams', 'total_revenue', 'unique_patients', 'avg_cost']\n",
    "scaler = MinMaxScaler()\n",
    "top3_normalized = pd.DataFrame(scaler.fit_transform(top3_labs[metrics]), \n",
    "                              columns=metrics, \n",
    "                              index=top3_labs.index)\n",
    "\n",
    "# Plotar múltiplas barras\n",
    "plt.bar(x - width*1.5, top3_normalized['num_exams'], width, label='Volume de Exames', color='#3498db')\n",
    "plt.bar(x - width/2, top3_normalized['total_revenue'], width, label='Receita Total', color='#2ecc71')\n",
    "plt.bar(x + width/2, top3_normalized['unique_patients'], width, label='Pacientes Únicos', color='#e74c3c')\n",
    "plt.bar(x + width*1.5, top3_normalized['avg_cost'], width, label='Custo Médio', color='#f39c12')\n",
    "\n",
    "# Configurar o gráfico\n",
    "plt.xticks(x, lab_ids, fontsize=12, fontweight='bold')\n",
    "plt.title('Comparação das Métricas-chave dos 3 Melhores Laboratórios', fontsize=14)\n",
    "plt.ylabel('Valor Normalizado', fontsize=12)\n",
    "plt.legend(loc='upper center', bbox_to_anchor=(0.5, -0.1), ncol=4)\n",
    "\n",
    "# Adicionar textos nas barras do volume de exames\n",
    "for i, v in enumerate(top3_labs['num_exams']):\n",
    "    plt.text(i - width*1.5, 0.05, f\"{int(v):,}\", \n",
    "            color='white', fontweight='bold', ha='center')\n",
    "\n",
    "plt.tight_layout(rect=[0, 0.05, 1, 1])  # Ajustar para acomodar a legenda\n",
    "plt.grid(axis='y', linestyle='--', alpha=0.3)\n",
    "plt.show()"
   ]
  },
  {
   "cell_type": "markdown",
   "id": "6d6b8250",
   "metadata": {},
   "source": [
    "## 7. Conclusões e Recomendações\n",
    "\n",
    "Com base nas análises realizadas, destacamos os seguintes insights chave:\n",
    "\n",
    "1. **Top 3 Laboratórios por Desempenho:**\n",
    "   - **L133:** Líder absoluto com 121.886 exames e receita de $9.711.866,14, atendeu 29.454 pacientes com custo médio por exame de $79,68\n",
    "   - **L139:** Apresenta a maior receita por paciente ($399,44) com 93.495 exames e custo médio elevado de $93,89\n",
    "   - **L152:** Segundo maior em volume com 95.255 exames, receita de $6.216.304,62 e estratégia de preço intermediário ($65,26)\n",
    "\n",
    "2. **Modelos de Negócio Identificados:**\n",
    "   - **Premium (L133, L139, L123):** Alto custo médio (>$79) e elevada receita por paciente\n",
    "   - **Volume (L152, L662, L132):** Preços mais acessíveis e alto volume de atendimentos\n",
    "   - **Balanceados (L166, L156):** Equilíbrio entre preço e volume\n",
    "\n",
    "3. **Correlações Demográficas:** População idosa tem forte correlação positiva (0.74) com a mediana de idade, sugerindo priorização de áreas com alta concentração de idosos.\n",
    "\n",
    "4. **Potencial de Mercado:** Áreas com alto potencial combinam:\n",
    "   - Alta população total\n",
    "   - Alta porcentagem de idosos\n",
    "   - Domicílios de alta renda\n",
    "   - Baixa presença de laboratórios\n",
    "   - Baixo número de exames per capita\n",
    "\n",
    "5. **Recomendações para Novos Laboratórios:**\n",
    "   - Priorizar top ZCTAs identificadas na análise\n",
    "   - Focar em regiões com população idosa\n",
    "   - Adaptar mix de exames às necessidades locais\n",
    "   - Desenvolver estratégias de preços segmentadas\n",
    "\n",
    "6. **Próximos Passos:**\n",
    "   - Pesquisas de mercado nas áreas de alto potencial\n",
    "   - Análise de sazonalidade da demanda\n",
    "   - Parcerias estratégicas com clínicas médicas locais"
   ]
  },
  {
   "cell_type": "markdown",
   "id": "ca094ddc",
   "metadata": {},
   "source": [
    "**Limitações da Análise:**\n",
    "- Granularidade geográfica: ZCTAs podem mascarar variações locais\n",
    "- Dados temporais: Baseado em histórico, sem capturar tendências emergentes\n",
    "- Fatores não quantificados: Acessibilidade, visibilidade e proximidade a centros médicos\n",
    "\n",
    "**Refinamentos Futuros:**\n",
    "1. Estudos de viabilidade nas ZCTAs de maior potencial\n",
    "2. Segmentação de clientes por região prioritária\n",
    "3. Mapeamento competitivo em áreas-alvo\n",
    "4. Implementação de laboratórios-piloto em locais estratégicos"
   ]
  }
 ],
 "metadata": {
  "kernelspec": {
   "display_name": "Python (base)",
   "language": "python",
   "name": "base"
  },
  "language_info": {
   "codemirror_mode": {
    "name": "ipython",
    "version": 3
   },
   "file_extension": ".py",
   "mimetype": "text/x-python",
   "name": "python",
   "nbconvert_exporter": "python",
   "pygments_lexer": "ipython3",
   "version": "3.12.3"
  }
 },
 "nbformat": 4,
 "nbformat_minor": 5
}
